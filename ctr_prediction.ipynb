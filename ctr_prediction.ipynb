{
 "cells": [
  {
   "cell_type": "markdown",
   "metadata": {},
   "source": [
    "# StackPros DS Assessment Project\n",
    "A mega-online shopping mall provides different baby brands to customers. In order to optimize\n",
    "online advertisements throughout websites, they want to predict the view-to-click probability given\n",
    "the information below.\n",
    "The data consists of:\n",
    "1. **Action**: the “interaction” that users completed when online ad was exposed. There are\n",
    "two types of actions in this dataset, **View** (a.k.a Impression) or **Click**.\n",
    "(Reference: https://en.wikipedia.org/wiki/Impression_(online_media))\n",
    "2. **ID**: unique user IDs\n",
    "3. **Action Time**: the time when action (View/Click) happened, in microseconds format\n",
    "4. **Website**: the website where the ad was published\n",
    "5. **Banner Size**: the banner size of ad\n",
    "6. **Brand**: the brand name that the ad was promoting\n",
    "7. **Colour**: the colour of product showcased in the ad\n",
    "8. **Interaction Time**: user’s interaction time with each ad (sec)\n",
    "\n",
    "The problem is essentially a binary classification, and the main objective is to accurately predict the probability of **Click**. The distribution of class in dataset is expected to exhibit highly imbalanced, since most of the click-through rate (CTR) in industry is round 0.2-0.3% for online advertising. In terms of classifier performance metric, the common accuracy metric is no longer valid, as accuracy only reflects the average performance of a classifier. Here, since we only care about whether we can correctly predict an ad will be clicked (positive-class), we could apply receiver operating characteristic (ROC) area-under-curve (AUC) which is class-invariant. In this case, we aim to minimize the probability of an ad that is potentially being miss-classifed to **View** instead of **Click** (i.e., reduce false negative), which in this case the ad publisher will potentially loses business opportunity.\n",
    "\n",
    "In the following sections, standard ML pipline will be included as:\n",
    "1. EDA\n",
    "2. Feature Engineering\n",
    "3. Feature Selection\n",
    "4. Baseline Model Selection\n",
    "5. Hyperparameter Optimization and Model Validation\n",
    "6. What's Lie Beyond\n",
    "\n",
    "From section 1 to 5, you will my find analysis and discussion along the way. In the *What's Lie Beyond* section, I include a few additional explorative analysis such as dimension reduction with PCA and feature hashing for **ID**. At last, I have provided some insights and recommendations to this project."
   ]
  },
  {
   "cell_type": "code",
   "execution_count": 1,
   "metadata": {
    "collapsed": false
   },
   "outputs": [],
   "source": [
    "# ML\n",
    "from sklearn.model_selection import GridSearchCV, KFold, cross_val_score\n",
    "from sklearn.model_selection import train_test_split\n",
    "from sklearn.feature_selection import SelectKBest, chi2\n",
    "from sklearn.feature_selection import RFE, RFECV\n",
    "\n",
    "from sklearn.metrics import roc_auc_score\n",
    "from sklearn.metrics import confusion_matrix\n",
    "\n",
    "# Baseline Models\n",
    "from sklearn.ensemble import RandomForestClassifier as RFC\n",
    "from sklearn.ensemble import GradientBoostingClassifier as GBC\n",
    "from sklearn.linear_model import LogisticRegression as LR\n",
    "from sklearn.svm import LinearSVC\n",
    "\n",
    "# Imbalanced ML\n",
    "from imblearn.ensemble import BalancedBaggingClassifier as BBC\n",
    "from imblearn.over_sampling import SMOTE\n",
    "\n",
    "# Utilities\n",
    "import statsmodels.discrete.discrete_model as sm\n",
    "import pandas as pd\n",
    "import numpy as np\n",
    "from scipy import stats\n",
    "# Workaround of statsmodels summary() bug\n",
    "stats.chisqprob = lambda chisq, df: stats.chi2.sf(chisq, df)\n",
    "\n",
    "import itertools\n",
    "\n",
    "# Visualization\n",
    "import matplotlib.pyplot as plt\n",
    "%matplotlib inline"
   ]
  },
  {
   "cell_type": "code",
   "execution_count": 2,
   "metadata": {
    "collapsed": true
   },
   "outputs": [],
   "source": [
    "data_dir = '/resources/data/'\n",
    "ctr_dir = data_dir + 'StackPros_Assessment_DataScientist_Senior.csv'"
   ]
  },
  {
   "cell_type": "code",
   "execution_count": 3,
   "metadata": {
    "collapsed": false,
    "scrolled": false
   },
   "outputs": [
    {
     "data": {
      "text/html": [
       "<div>\n",
       "<style scoped>\n",
       "    .dataframe tbody tr th:only-of-type {\n",
       "        vertical-align: middle;\n",
       "    }\n",
       "\n",
       "    .dataframe tbody tr th {\n",
       "        vertical-align: top;\n",
       "    }\n",
       "\n",
       "    .dataframe thead th {\n",
       "        text-align: right;\n",
       "    }\n",
       "</style>\n",
       "<table border=\"1\" class=\"dataframe\">\n",
       "  <thead>\n",
       "    <tr style=\"text-align: right;\">\n",
       "      <th></th>\n",
       "      <th>Unnamed: 0</th>\n",
       "      <th>ID</th>\n",
       "      <th>ActionTime</th>\n",
       "      <th>Action</th>\n",
       "      <th>Website</th>\n",
       "      <th>BannerSize</th>\n",
       "      <th>Brand</th>\n",
       "      <th>colour</th>\n",
       "      <th>InteractionTime</th>\n",
       "    </tr>\n",
       "  </thead>\n",
       "  <tbody>\n",
       "    <tr>\n",
       "      <th>0</th>\n",
       "      <td>1</td>\n",
       "      <td>AMsySZbNg8SBwPtj7IGHnip_8aY0</td>\n",
       "      <td>1508761859495365</td>\n",
       "      <td>View</td>\n",
       "      <td>Facebook</td>\n",
       "      <td>300x600</td>\n",
       "      <td>Carter's</td>\n",
       "      <td>Pink</td>\n",
       "      <td>0.171601</td>\n",
       "    </tr>\n",
       "    <tr>\n",
       "      <th>1</th>\n",
       "      <td>2</td>\n",
       "      <td>AMsySZZcUFNGOJs-lfC9j-ZDlV7Z</td>\n",
       "      <td>1502847469736117</td>\n",
       "      <td>View</td>\n",
       "      <td>Facebook</td>\n",
       "      <td>300x250</td>\n",
       "      <td>Burberry</td>\n",
       "      <td>Red</td>\n",
       "      <td>4.303945</td>\n",
       "    </tr>\n",
       "    <tr>\n",
       "      <th>2</th>\n",
       "      <td>3</td>\n",
       "      <td>AMsySZYoK8_bD0hGv4zu0iRn1TFo</td>\n",
       "      <td>1514169431528120</td>\n",
       "      <td>View</td>\n",
       "      <td>Facebook</td>\n",
       "      <td>728x90</td>\n",
       "      <td>Disney</td>\n",
       "      <td>Yellow</td>\n",
       "      <td>0.868106</td>\n",
       "    </tr>\n",
       "    <tr>\n",
       "      <th>3</th>\n",
       "      <td>4</td>\n",
       "      <td>AMsySZahxpwLOWnMJj6RGATgwEOc</td>\n",
       "      <td>1515527952591896</td>\n",
       "      <td>View</td>\n",
       "      <td>Facebook</td>\n",
       "      <td>320x50</td>\n",
       "      <td>Carter's</td>\n",
       "      <td>Yellow</td>\n",
       "      <td>0.802647</td>\n",
       "    </tr>\n",
       "    <tr>\n",
       "      <th>4</th>\n",
       "      <td>5</td>\n",
       "      <td>AMsySZbqgfMBDtAqZz1jVRaOmX00</td>\n",
       "      <td>1507514809374045</td>\n",
       "      <td>View</td>\n",
       "      <td>instagram.com</td>\n",
       "      <td>300x250</td>\n",
       "      <td>Gap</td>\n",
       "      <td>Gold</td>\n",
       "      <td>0.627148</td>\n",
       "    </tr>\n",
       "  </tbody>\n",
       "</table>\n",
       "</div>"
      ],
      "text/plain": [
       "   Unnamed: 0                            ID        ActionTime Action  \\\n",
       "0           1  AMsySZbNg8SBwPtj7IGHnip_8aY0  1508761859495365   View   \n",
       "1           2  AMsySZZcUFNGOJs-lfC9j-ZDlV7Z  1502847469736117   View   \n",
       "2           3  AMsySZYoK8_bD0hGv4zu0iRn1TFo  1514169431528120   View   \n",
       "3           4  AMsySZahxpwLOWnMJj6RGATgwEOc  1515527952591896   View   \n",
       "4           5  AMsySZbqgfMBDtAqZz1jVRaOmX00  1507514809374045   View   \n",
       "\n",
       "         Website BannerSize     Brand  colour  InteractionTime  \n",
       "0       Facebook    300x600  Carter's    Pink         0.171601  \n",
       "1       Facebook    300x250  Burberry     Red         4.303945  \n",
       "2       Facebook     728x90    Disney  Yellow         0.868106  \n",
       "3       Facebook     320x50  Carter's  Yellow         0.802647  \n",
       "4  instagram.com    300x250       Gap    Gold         0.627148  "
      ]
     },
     "execution_count": 3,
     "metadata": {},
     "output_type": "execute_result"
    }
   ],
   "source": [
    "df_ctr = pd.read_csv(ctr_dir, index_col=None)\n",
    "df_ctr.head()"
   ]
  },
  {
   "cell_type": "code",
   "execution_count": 4,
   "metadata": {
    "collapsed": false
   },
   "outputs": [
    {
     "data": {
      "text/plain": [
       "1000000"
      ]
     },
     "execution_count": 4,
     "metadata": {},
     "output_type": "execute_result"
    }
   ],
   "source": [
    "len(df_ctr.index)"
   ]
  },
  {
   "cell_type": "code",
   "execution_count": 5,
   "metadata": {
    "collapsed": false,
    "scrolled": true
   },
   "outputs": [
    {
     "data": {
      "text/plain": [
       "244"
      ]
     },
     "execution_count": 5,
     "metadata": {},
     "output_type": "execute_result"
    }
   ],
   "source": [
    "len(df_ctr[df_ctr['Action'] == 'Click'])"
   ]
  },
  {
   "cell_type": "markdown",
   "metadata": {},
   "source": [
    "We have 1 million observations with only 244 **Click** events, this is worse than I expected... The event rate is only at 0.0244%. Normally for detecting rare event where we have a severe class imbalance, there are three ways to combat it.\n",
    "1. Undersampling for majority class (e.g., Bootstrapping)\n",
    "2. Oversampling for minority class (e.g., SMOTE)\n",
    "3. Hybrid strategy with 1 and 2\n",
    "\n",
    "However, resampling the data is considered to be last resort when we have a situation that the classifer becomes trival or completely unlearnable under the current class distribution. For now, I will see outcome first then decide if resampling is necessary."
   ]
  },
  {
   "cell_type": "markdown",
   "metadata": {},
   "source": [
    "## Explorative Data Analysis\n",
    "At EDA, we will do some preprocessing and take a dive into each variable to see their impacts on the target. Here, we can first convert **Action** to a binary response."
   ]
  },
  {
   "cell_type": "code",
   "execution_count": 6,
   "metadata": {
    "collapsed": false
   },
   "outputs": [],
   "source": [
    "df_ctr['Action'] = df_ctr['Action'].apply(lambda x: 1 if x == 'Click' else 0)"
   ]
  },
  {
   "cell_type": "markdown",
   "metadata": {},
   "source": [
    "Here, we found missing value in **InteractionTime** column."
   ]
  },
  {
   "cell_type": "code",
   "execution_count": 7,
   "metadata": {
    "collapsed": false
   },
   "outputs": [
    {
     "data": {
      "text/plain": [
       "Unnamed: 0         False\n",
       "ID                 False\n",
       "ActionTime         False\n",
       "Action             False\n",
       "Website            False\n",
       "BannerSize         False\n",
       "Brand              False\n",
       "colour             False\n",
       "InteractionTime     True\n",
       "dtype: bool"
      ]
     },
     "execution_count": 7,
     "metadata": {},
     "output_type": "execute_result"
    }
   ],
   "source": [
    "pd.isnull(df_ctr).any(axis=0)"
   ]
  },
  {
   "cell_type": "code",
   "execution_count": 8,
   "metadata": {
    "collapsed": false,
    "scrolled": false
   },
   "outputs": [
    {
     "data": {
      "text/html": [
       "<div>\n",
       "<style scoped>\n",
       "    .dataframe tbody tr th:only-of-type {\n",
       "        vertical-align: middle;\n",
       "    }\n",
       "\n",
       "    .dataframe tbody tr th {\n",
       "        vertical-align: top;\n",
       "    }\n",
       "\n",
       "    .dataframe thead th {\n",
       "        text-align: right;\n",
       "    }\n",
       "</style>\n",
       "<table border=\"1\" class=\"dataframe\">\n",
       "  <thead>\n",
       "    <tr style=\"text-align: right;\">\n",
       "      <th></th>\n",
       "      <th>Unnamed: 0</th>\n",
       "      <th>ID</th>\n",
       "      <th>ActionTime</th>\n",
       "      <th>Action</th>\n",
       "      <th>Website</th>\n",
       "      <th>BannerSize</th>\n",
       "      <th>Brand</th>\n",
       "      <th>colour</th>\n",
       "      <th>InteractionTime</th>\n",
       "    </tr>\n",
       "  </thead>\n",
       "  <tbody>\n",
       "    <tr>\n",
       "      <th>28</th>\n",
       "      <td>29</td>\n",
       "      <td>AMsySZbU2U0u2CDEQPae5UEvj7uh</td>\n",
       "      <td>1513974448167954</td>\n",
       "      <td>0</td>\n",
       "      <td>Facebook</td>\n",
       "      <td>728x90</td>\n",
       "      <td>Gap</td>\n",
       "      <td>Gold</td>\n",
       "      <td>NaN</td>\n",
       "    </tr>\n",
       "    <tr>\n",
       "      <th>154</th>\n",
       "      <td>155</td>\n",
       "      <td>AMsySZZNSd4doewEvAFWe9U7SEub</td>\n",
       "      <td>1503968584487308</td>\n",
       "      <td>0</td>\n",
       "      <td>Facebook</td>\n",
       "      <td>320x50</td>\n",
       "      <td>Banana Republic</td>\n",
       "      <td>Gold</td>\n",
       "      <td>NaN</td>\n",
       "    </tr>\n",
       "    <tr>\n",
       "      <th>812</th>\n",
       "      <td>813</td>\n",
       "      <td>AMsySZb8b-J-eW7JOEuTeIUQ5qMg</td>\n",
       "      <td>1514261353516880</td>\n",
       "      <td>1</td>\n",
       "      <td>Kijiji</td>\n",
       "      <td>160x600</td>\n",
       "      <td>JoeFresh</td>\n",
       "      <td>other</td>\n",
       "      <td>NaN</td>\n",
       "    </tr>\n",
       "    <tr>\n",
       "      <th>98269</th>\n",
       "      <td>98270</td>\n",
       "      <td>AMsySZbCULOmzvMOl_jxgAPZnhmV</td>\n",
       "      <td>1512573518334683</td>\n",
       "      <td>1</td>\n",
       "      <td>Facebook</td>\n",
       "      <td>300x250</td>\n",
       "      <td>Disney</td>\n",
       "      <td>Blue</td>\n",
       "      <td>NaN</td>\n",
       "    </tr>\n",
       "    <tr>\n",
       "      <th>243356</th>\n",
       "      <td>243357</td>\n",
       "      <td>AMsySZYtpCq1jCDG6_MR6U9RDbfC</td>\n",
       "      <td>1514698137892676</td>\n",
       "      <td>1</td>\n",
       "      <td>Facebook</td>\n",
       "      <td>160x600</td>\n",
       "      <td>JoeFresh</td>\n",
       "      <td>Pink</td>\n",
       "      <td>NaN</td>\n",
       "    </tr>\n",
       "    <tr>\n",
       "      <th>243357</th>\n",
       "      <td>243358</td>\n",
       "      <td>AMsySZa6M_Z79mOnUWF9P8nKac5-</td>\n",
       "      <td>1516738555981098</td>\n",
       "      <td>0</td>\n",
       "      <td>Facebook</td>\n",
       "      <td>300x250</td>\n",
       "      <td>Carter's</td>\n",
       "      <td>Yellow</td>\n",
       "      <td>NaN</td>\n",
       "    </tr>\n",
       "    <tr>\n",
       "      <th>331970</th>\n",
       "      <td>331971</td>\n",
       "      <td>AMsySZbyqkZuERDU8VBWoJX_F4tD</td>\n",
       "      <td>1515278217655536</td>\n",
       "      <td>1</td>\n",
       "      <td>Other</td>\n",
       "      <td>1x1</td>\n",
       "      <td>Old Navy</td>\n",
       "      <td>Pink</td>\n",
       "      <td>NaN</td>\n",
       "    </tr>\n",
       "    <tr>\n",
       "      <th>451827</th>\n",
       "      <td>451828</td>\n",
       "      <td>AMsySZYZjTd1kTYooOpACb0cTDL2</td>\n",
       "      <td>1515692970262672</td>\n",
       "      <td>1</td>\n",
       "      <td>Facebook</td>\n",
       "      <td>728x90</td>\n",
       "      <td>Old Navy</td>\n",
       "      <td>Pink</td>\n",
       "      <td>NaN</td>\n",
       "    </tr>\n",
       "  </tbody>\n",
       "</table>\n",
       "</div>"
      ],
      "text/plain": [
       "        Unnamed: 0                            ID        ActionTime  Action  \\\n",
       "28              29  AMsySZbU2U0u2CDEQPae5UEvj7uh  1513974448167954       0   \n",
       "154            155  AMsySZZNSd4doewEvAFWe9U7SEub  1503968584487308       0   \n",
       "812            813  AMsySZb8b-J-eW7JOEuTeIUQ5qMg  1514261353516880       1   \n",
       "98269        98270  AMsySZbCULOmzvMOl_jxgAPZnhmV  1512573518334683       1   \n",
       "243356      243357  AMsySZYtpCq1jCDG6_MR6U9RDbfC  1514698137892676       1   \n",
       "243357      243358  AMsySZa6M_Z79mOnUWF9P8nKac5-  1516738555981098       0   \n",
       "331970      331971  AMsySZbyqkZuERDU8VBWoJX_F4tD  1515278217655536       1   \n",
       "451827      451828  AMsySZYZjTd1kTYooOpACb0cTDL2  1515692970262672       1   \n",
       "\n",
       "         Website BannerSize            Brand  colour  InteractionTime  \n",
       "28      Facebook     728x90              Gap    Gold              NaN  \n",
       "154     Facebook     320x50  Banana Republic    Gold              NaN  \n",
       "812       Kijiji    160x600         JoeFresh   other              NaN  \n",
       "98269   Facebook    300x250           Disney    Blue              NaN  \n",
       "243356  Facebook    160x600         JoeFresh    Pink              NaN  \n",
       "243357  Facebook    300x250         Carter's  Yellow              NaN  \n",
       "331970     Other        1x1         Old Navy    Pink              NaN  \n",
       "451827  Facebook     728x90         Old Navy    Pink              NaN  "
      ]
     },
     "execution_count": 8,
     "metadata": {},
     "output_type": "execute_result"
    }
   ],
   "source": [
    "df_ctr[pd.isnull(df_ctr).any(axis=1)]"
   ]
  },
  {
   "cell_type": "markdown",
   "metadata": {},
   "source": [
    "In this case, since there are only 8 samples normally we can simply remove them. However, as noticed among the 8 samples there are 5 **Click** events, and we only have about 244, every useful sample counts! Thus, instead of remove them we can provide some cold-start to the **InteractionTime** using the average of all interaction time."
   ]
  },
  {
   "cell_type": "code",
   "execution_count": 9,
   "metadata": {
    "collapsed": false
   },
   "outputs": [
    {
     "name": "stdout",
     "output_type": "stream",
     "text": [
      "0.998667358669745\n"
     ]
    }
   ],
   "source": [
    "avg_interact_time = df_ctr['InteractionTime'].mean()\n",
    "print(avg_interact_time)"
   ]
  },
  {
   "cell_type": "code",
   "execution_count": 10,
   "metadata": {
    "collapsed": false
   },
   "outputs": [],
   "source": [
    "df_ctr = df_ctr.fillna(avg_interact_time)"
   ]
  },
  {
   "cell_type": "code",
   "execution_count": 11,
   "metadata": {
    "collapsed": false,
    "scrolled": true
   },
   "outputs": [
    {
     "data": {
      "text/plain": [
       "Unnamed: 0         False\n",
       "ID                 False\n",
       "ActionTime         False\n",
       "Action             False\n",
       "Website            False\n",
       "BannerSize         False\n",
       "Brand              False\n",
       "colour             False\n",
       "InteractionTime    False\n",
       "dtype: bool"
      ]
     },
     "execution_count": 11,
     "metadata": {},
     "output_type": "execute_result"
    }
   ],
   "source": [
    "pd.isnull(df_ctr).any(axis=0)"
   ]
  },
  {
   "cell_type": "markdown",
   "metadata": {},
   "source": [
    "Now, no missing value is found."
   ]
  },
  {
   "cell_type": "code",
   "execution_count": 12,
   "metadata": {
    "collapsed": false
   },
   "outputs": [
    {
     "name": "stdout",
     "output_type": "stream",
     "text": [
      "Number of users: 218686\n",
      "Number of websites: 16\n",
      "Number of bannars: 15\n",
      "Number of brands: 10\n",
      "Number of colours: 7\n"
     ]
    }
   ],
   "source": [
    "print(\"Number of users:\", len(df_ctr['ID'].unique()))\n",
    "print(\"Number of websites:\", len(df_ctr['Website'].unique()))\n",
    "print(\"Number of bannars:\", len(df_ctr['BannerSize'].unique()))\n",
    "print(\"Number of brands:\", len(df_ctr['Brand'].unique()))\n",
    "print(\"Number of colours:\", len(df_ctr['colour'].unique()))"
   ]
  },
  {
   "cell_type": "markdown",
   "metadata": {},
   "source": [
    "All the above columns are categorical variables. Considering we have 1 million observations, the feature space is not that big. However, there are 218686 unique **ID**s, if we use one-hot-encoding for the ID it will present our feature with very high sparsity. This must be handled with care. Because too many features will result poor performance for the classifier, and too sparse the feature we might encouter convergence issue during training."
   ]
  },
  {
   "cell_type": "code",
   "execution_count": 13,
   "metadata": {
    "collapsed": false
   },
   "outputs": [
    {
     "data": {
      "image/png": "[encoded data removed]",
      "text/plain": [
       "<matplotlib.figure.Figure at 0x7fed6426a438>"
      ]
     },
     "metadata": {},
     "output_type": "display_data"
    }
   ],
   "source": [
    "df_ctr['Website'].value_counts().plot(kind='bar')\n",
    "plt.show()"
   ]
  },
  {
   "cell_type": "code",
   "execution_count": 14,
   "metadata": {
    "collapsed": false,
    "scrolled": true
   },
   "outputs": [
    {
     "data": {
      "text/plain": [
       "Website\n",
       "AOL              0.000000\n",
       "Amazon           0.000291\n",
       "Atedra           0.000032\n",
       "Craigslist.ca    0.000025\n",
       "Expedia          0.000858\n",
       "Facebook         0.000275\n",
       "Kijiji           0.000906\n",
       "Other            0.000328\n",
       "Sympatico        0.000088\n",
       "TubeMogul        0.000315\n",
       "Twitter          0.000000\n",
       "Wayfair          0.000250\n",
       "Weather          0.000000\n",
       "Yahoo            0.000178\n",
       "Youtube          0.000000\n",
       "instagram.com    0.000143\n",
       "Name: Action, dtype: float64"
      ]
     },
     "execution_count": 14,
     "metadata": {},
     "output_type": "execute_result"
    }
   ],
   "source": [
    "df_ctr.groupby('Website')['Action'].mean()"
   ]
  },
  {
   "cell_type": "markdown",
   "metadata": {},
   "source": [
    "We see a lot of variation among all website in terms of clicks, so this could be a good feature."
   ]
  },
  {
   "cell_type": "code",
   "execution_count": 15,
   "metadata": {
    "collapsed": false,
    "scrolled": true
   },
   "outputs": [
    {
     "data": {
      "image/png": "[encoded data removed]",
      "text/plain": [
       "<matplotlib.figure.Figure at 0x7fed641aaa58>"
      ]
     },
     "metadata": {},
     "output_type": "display_data"
    }
   ],
   "source": [
    "df_ctr['BannerSize'].value_counts().plot(kind='bar')\n",
    "plt.show()"
   ]
  },
  {
   "cell_type": "code",
   "execution_count": 16,
   "metadata": {
    "collapsed": true
   },
   "outputs": [],
   "source": [
    "df_ctr['BannerSize'] = df_ctr['BannerSize'].replace('other', 'Other')"
   ]
  },
  {
   "cell_type": "code",
   "execution_count": 17,
   "metadata": {
    "collapsed": false,
    "scrolled": false
   },
   "outputs": [
    {
     "data": {
      "text/plain": [
       "BannerSize\n",
       "1200x627     0.000152\n",
       "1536x2048    0.000000\n",
       "160x600      0.000625\n",
       "1x1          0.001848\n",
       "300x250      0.000196\n",
       "300x50       0.002195\n",
       "300x600      0.000186\n",
       "320x100      0.000000\n",
       "320x480      0.000000\n",
       "320x50       0.000193\n",
       "728x90       0.000245\n",
       "750x125      0.001748\n",
       "768x1024     0.000000\n",
       "Other        0.000191\n",
       "Name: Action, dtype: float64"
      ]
     },
     "execution_count": 17,
     "metadata": {},
     "output_type": "execute_result"
    }
   ],
   "source": [
    "df_ctr.groupby('BannerSize')['Action'].mean()"
   ]
  },
  {
   "cell_type": "markdown",
   "metadata": {},
   "source": [
    "Similar as website, we can see variations among all banner sizes, so this could be a good feature too. Because the banner size draw visual attention to users, intuitively it must be an important feature."
   ]
  },
  {
   "cell_type": "code",
   "execution_count": 18,
   "metadata": {
    "collapsed": false
   },
   "outputs": [
    {
     "data": {
      "image/png": "[encoded data removed]",
      "text/plain": [
       "<matplotlib.figure.Figure at 0x7fed64164e80>"
      ]
     },
     "metadata": {},
     "output_type": "display_data"
    }
   ],
   "source": [
    "df_ctr['Brand'].value_counts().plot(kind='bar')\n",
    "plt.show()"
   ]
  },
  {
   "cell_type": "code",
   "execution_count": 19,
   "metadata": {
    "collapsed": false,
    "scrolled": true
   },
   "outputs": [
    {
     "data": {
      "text/plain": [
       "Brand\n",
       "Banana Republic         0.000143\n",
       "Burberry                0.000252\n",
       "Carter's                0.000265\n",
       "Disney                  0.000156\n",
       "Gap                     0.000358\n",
       "JoeFresh                0.000219\n",
       "Old Navy                0.000259\n",
       "The Children's Place    0.000286\n",
       "Zara                    0.000288\n",
       "gymboree                0.000328\n",
       "Name: Action, dtype: float64"
      ]
     },
     "execution_count": 19,
     "metadata": {},
     "output_type": "execute_result"
    }
   ],
   "source": [
    "df_ctr.groupby('Brand')['Action'].mean()"
   ]
  },
  {
   "cell_type": "markdown",
   "metadata": {},
   "source": [
    "As seen, all brands have very similar average click counts, so the 'Brand' might be a bad feature to use for classification. We can potentially disregard it in feature selection."
   ]
  },
  {
   "cell_type": "code",
   "execution_count": 20,
   "metadata": {
    "collapsed": false
   },
   "outputs": [
    {
     "data": {
      "image/png": "[encoded data removed]",
      "text/plain": [
       "<matplotlib.figure.Figure at 0x7fed640300b8>"
      ]
     },
     "metadata": {},
     "output_type": "display_data"
    }
   ],
   "source": [
    "df_ctr['colour'].value_counts().plot(kind='bar')\n",
    "plt.show()"
   ]
  },
  {
   "cell_type": "code",
   "execution_count": 21,
   "metadata": {
    "collapsed": false,
    "scrolled": true
   },
   "outputs": [
    {
     "data": {
      "text/plain": [
       "colour\n",
       "Blue      0.000232\n",
       "Gold      0.000248\n",
       "Pink      0.000245\n",
       "Red       0.000238\n",
       "White     0.000180\n",
       "Yellow    0.000261\n",
       "other     0.000283\n",
       "Name: Action, dtype: float64"
      ]
     },
     "execution_count": 21,
     "metadata": {},
     "output_type": "execute_result"
    }
   ],
   "source": [
    "df_ctr.groupby('colour')['Action'].mean()"
   ]
  },
  {
   "cell_type": "markdown",
   "metadata": {},
   "source": [
    "For among all the colours the click rates are quite similar (relatively low variance) which makes it a less desirable feature to differentiate the two classes, so we can potentially disregard it in feature selection."
   ]
  },
  {
   "cell_type": "code",
   "execution_count": 44,
   "metadata": {
    "collapsed": false,
    "scrolled": true
   },
   "outputs": [
    {
     "data": {
      "image/png": "[encoded data removed]",
      "text/plain": [
       "<matplotlib.figure.Figure at 0x7fed53bf36d8>"
      ]
     },
     "metadata": {},
     "output_type": "display_data"
    }
   ],
   "source": [
    "df_ctr['InteractionTime'].hist()\n",
    "plt.show()"
   ]
  },
  {
   "cell_type": "markdown",
   "metadata": {},
   "source": [
    "We see most of the interation times are within 1 second, the distribution is heavily right-skewed."
   ]
  },
  {
   "cell_type": "code",
   "execution_count": 23,
   "metadata": {
    "collapsed": false,
    "scrolled": true
   },
   "outputs": [
    {
     "data": {
      "text/plain": [
       "Action\n",
       "0    0.998662\n",
       "1    1.021115\n",
       "Name: InteractionTime, dtype: float64"
      ]
     },
     "execution_count": 23,
     "metadata": {},
     "output_type": "execute_result"
    }
   ],
   "source": [
    "df_ctr.groupby('Action')['InteractionTime'].mean()"
   ]
  },
  {
   "cell_type": "markdown",
   "metadata": {},
   "source": [
    "For both **View** and **Click**, average interation times are very very close, thus this could not be well contributed to classification as the colours. But we will keep it for now."
   ]
  },
  {
   "cell_type": "code",
   "execution_count": 24,
   "metadata": {
    "collapsed": false
   },
   "outputs": [
    {
     "data": {
      "text/plain": [
       "211"
      ]
     },
     "execution_count": 24,
     "metadata": {},
     "output_type": "execute_result"
    }
   ],
   "source": [
    "np.count_nonzero(df_ctr.groupby('ID')['Action'].sum() > 0)"
   ]
  },
  {
   "cell_type": "markdown",
   "metadata": {},
   "source": [
    "There are almost 218,686 unique users but only 211 user have clicked an ad before. The user click rate is less than 0.1%. However, the user information might be useful because it introduces a click-prior for each user. For example, a user who has clicked an ad before is more likely to click a new ad than a user who has never clicked before (e.g., a new user), and a user who clicked more before is rather likely to click more than a user who only clicked once. At the moment I temporarily hold out this user-dependent feature aside from the main analysis and come back later if I have time (see What's Lie Beyond).\n",
    "\n",
    "To properly process ID information as feature, we firstly need to apply feature hashing for the user ID due to its large feature space, 218,686 to be excatly. If we opt to one-hot-encoding (OHE), the linear model might be hurt by high sparsity inputs. We can hash map the ID to a fixed-length vector-space that could be siginificantly shorter than OHE to mitigate high sparsity."
   ]
  },
  {
   "cell_type": "markdown",
   "metadata": {},
   "source": [
    "## Feature Engineering\n",
    "The main feature we are going to re-engineer is the temporal-dependent information, which is our **ActionTime** here. The **ActionTime** displays the timestamps of each action taken place that can potential lead to more behavior information we can exploit.\n",
    "\n",
    "First, we convert **ActionTime** (in microsecond) to DateTime object."
   ]
  },
  {
   "cell_type": "code",
   "execution_count": 26,
   "metadata": {
    "collapsed": false,
    "scrolled": false
   },
   "outputs": [
    {
     "data": {
      "text/html": [
       "<div>\n",
       "<style scoped>\n",
       "    .dataframe tbody tr th:only-of-type {\n",
       "        vertical-align: middle;\n",
       "    }\n",
       "\n",
       "    .dataframe tbody tr th {\n",
       "        vertical-align: top;\n",
       "    }\n",
       "\n",
       "    .dataframe thead th {\n",
       "        text-align: right;\n",
       "    }\n",
       "</style>\n",
       "<table border=\"1\" class=\"dataframe\">\n",
       "  <thead>\n",
       "    <tr style=\"text-align: right;\">\n",
       "      <th></th>\n",
       "      <th>Unnamed: 0</th>\n",
       "      <th>ID</th>\n",
       "      <th>ActionTime</th>\n",
       "      <th>Action</th>\n",
       "      <th>Website</th>\n",
       "      <th>BannerSize</th>\n",
       "      <th>Brand</th>\n",
       "      <th>colour</th>\n",
       "      <th>InteractionTime</th>\n",
       "      <th>DateTime</th>\n",
       "    </tr>\n",
       "  </thead>\n",
       "  <tbody>\n",
       "    <tr>\n",
       "      <th>0</th>\n",
       "      <td>1</td>\n",
       "      <td>AMsySZbNg8SBwPtj7IGHnip_8aY0</td>\n",
       "      <td>1508761859495365</td>\n",
       "      <td>0</td>\n",
       "      <td>Facebook</td>\n",
       "      <td>300x600</td>\n",
       "      <td>Carter's</td>\n",
       "      <td>Pink</td>\n",
       "      <td>0.171601</td>\n",
       "      <td>2017-10-23 12:30:59.495365</td>\n",
       "    </tr>\n",
       "    <tr>\n",
       "      <th>1</th>\n",
       "      <td>2</td>\n",
       "      <td>AMsySZZcUFNGOJs-lfC9j-ZDlV7Z</td>\n",
       "      <td>1502847469736117</td>\n",
       "      <td>0</td>\n",
       "      <td>Facebook</td>\n",
       "      <td>300x250</td>\n",
       "      <td>Burberry</td>\n",
       "      <td>Red</td>\n",
       "      <td>4.303945</td>\n",
       "      <td>2017-08-16 01:37:49.736117</td>\n",
       "    </tr>\n",
       "    <tr>\n",
       "      <th>2</th>\n",
       "      <td>3</td>\n",
       "      <td>AMsySZYoK8_bD0hGv4zu0iRn1TFo</td>\n",
       "      <td>1514169431528120</td>\n",
       "      <td>0</td>\n",
       "      <td>Facebook</td>\n",
       "      <td>728x90</td>\n",
       "      <td>Disney</td>\n",
       "      <td>Yellow</td>\n",
       "      <td>0.868106</td>\n",
       "      <td>2017-12-25 02:37:11.528120</td>\n",
       "    </tr>\n",
       "    <tr>\n",
       "      <th>3</th>\n",
       "      <td>4</td>\n",
       "      <td>AMsySZahxpwLOWnMJj6RGATgwEOc</td>\n",
       "      <td>1515527952591896</td>\n",
       "      <td>0</td>\n",
       "      <td>Facebook</td>\n",
       "      <td>320x50</td>\n",
       "      <td>Carter's</td>\n",
       "      <td>Yellow</td>\n",
       "      <td>0.802647</td>\n",
       "      <td>2018-01-09 19:59:12.591896</td>\n",
       "    </tr>\n",
       "    <tr>\n",
       "      <th>4</th>\n",
       "      <td>5</td>\n",
       "      <td>AMsySZbqgfMBDtAqZz1jVRaOmX00</td>\n",
       "      <td>1507514809374045</td>\n",
       "      <td>0</td>\n",
       "      <td>instagram.com</td>\n",
       "      <td>300x250</td>\n",
       "      <td>Gap</td>\n",
       "      <td>Gold</td>\n",
       "      <td>0.627148</td>\n",
       "      <td>2017-10-09 02:06:49.374045</td>\n",
       "    </tr>\n",
       "  </tbody>\n",
       "</table>\n",
       "</div>"
      ],
      "text/plain": [
       "   Unnamed: 0                            ID        ActionTime  Action  \\\n",
       "0           1  AMsySZbNg8SBwPtj7IGHnip_8aY0  1508761859495365       0   \n",
       "1           2  AMsySZZcUFNGOJs-lfC9j-ZDlV7Z  1502847469736117       0   \n",
       "2           3  AMsySZYoK8_bD0hGv4zu0iRn1TFo  1514169431528120       0   \n",
       "3           4  AMsySZahxpwLOWnMJj6RGATgwEOc  1515527952591896       0   \n",
       "4           5  AMsySZbqgfMBDtAqZz1jVRaOmX00  1507514809374045       0   \n",
       "\n",
       "         Website BannerSize     Brand  colour  InteractionTime  \\\n",
       "0       Facebook    300x600  Carter's    Pink         0.171601   \n",
       "1       Facebook    300x250  Burberry     Red         4.303945   \n",
       "2       Facebook     728x90    Disney  Yellow         0.868106   \n",
       "3       Facebook     320x50  Carter's  Yellow         0.802647   \n",
       "4  instagram.com    300x250       Gap    Gold         0.627148   \n",
       "\n",
       "                    DateTime  \n",
       "0 2017-10-23 12:30:59.495365  \n",
       "1 2017-08-16 01:37:49.736117  \n",
       "2 2017-12-25 02:37:11.528120  \n",
       "3 2018-01-09 19:59:12.591896  \n",
       "4 2017-10-09 02:06:49.374045  "
      ]
     },
     "execution_count": 26,
     "metadata": {},
     "output_type": "execute_result"
    }
   ],
   "source": [
    "df_ctr['DateTime'] = pd.to_datetime(df_ctr['ActionTime'], unit='us')\n",
    "df_ctr.head()"
   ]
  },
  {
   "cell_type": "markdown",
   "metadata": {},
   "source": [
    "Then add extra columns for years and months."
   ]
  },
  {
   "cell_type": "code",
   "execution_count": 27,
   "metadata": {
    "collapsed": true
   },
   "outputs": [],
   "source": [
    "df_ctr['Year'] = df_ctr['DateTime'].dt.year\n",
    "df_ctr['Month'] = df_ctr['DateTime'].dt.month"
   ]
  },
  {
   "cell_type": "markdown",
   "metadata": {},
   "source": [
    "And we convert day to the day of a week, i.e., Monday, Tuesday, .... This essentially we bin the 30-day of a month into 7 categories. This is because firstly 30 categories for day is too many, and we assume that user behavior is more relevant or dependent on the day of a week and there is no distinguished significance to e.g., on 15th and 16th of a month."
   ]
  },
  {
   "cell_type": "code",
   "execution_count": 28,
   "metadata": {
    "collapsed": true
   },
   "outputs": [],
   "source": [
    "df_ctr['DayWeek'] = df_ctr['DateTime'].dt.weekday_name"
   ]
  },
  {
   "cell_type": "markdown",
   "metadata": {},
   "source": [
    "Similarly for the hour of a day, at 1pm and 2pm we assume no user behavior change. Then, we bin hours into the periods of a day as Morning, Afternoon, Evening, Night."
   ]
  },
  {
   "cell_type": "code",
   "execution_count": 29,
   "metadata": {
    "collapsed": false
   },
   "outputs": [],
   "source": [
    "day_period_bins = [0, 5, 13, 17, 25]\n",
    "labels = ['Morning', 'Afternoon', 'Evening', 'Night']\n",
    "hours = df_ctr['DateTime'].dt.hour\n",
    "df_ctr['DayPeriod'] = pd.cut(hours - 5 + 24 * (hours < 5),\n",
    "                             bins=day_period_bins,\n",
    "                             labels=labels,\n",
    "                             right=False)  "
   ]
  },
  {
   "cell_type": "markdown",
   "metadata": {},
   "source": [
    "In addition, we can also convert to day of week into whether it's a weekend or not, because user behavior is expected to be significantly change during weekends. Note: days of a week and weekend has correlation between each others, we probably have to choose one of them in order to avoid multicollinearity.\n",
    "\n",
    "Binary response for weekend flag"
   ]
  },
  {
   "cell_type": "code",
   "execution_count": 30,
   "metadata": {
    "collapsed": true
   },
   "outputs": [],
   "source": [
    "df_ctr['Weekend'] = df_ctr['DayWeek'].apply(lambda x: 1 if x in ['Saturday', 'Sunday'] else 0)"
   ]
  },
  {
   "cell_type": "code",
   "execution_count": 31,
   "metadata": {
    "collapsed": false,
    "scrolled": true
   },
   "outputs": [
    {
     "data": {
      "text/html": [
       "<div>\n",
       "<style scoped>\n",
       "    .dataframe tbody tr th:only-of-type {\n",
       "        vertical-align: middle;\n",
       "    }\n",
       "\n",
       "    .dataframe tbody tr th {\n",
       "        vertical-align: top;\n",
       "    }\n",
       "\n",
       "    .dataframe thead th {\n",
       "        text-align: right;\n",
       "    }\n",
       "</style>\n",
       "<table border=\"1\" class=\"dataframe\">\n",
       "  <thead>\n",
       "    <tr style=\"text-align: right;\">\n",
       "      <th></th>\n",
       "      <th>Unnamed: 0</th>\n",
       "      <th>ID</th>\n",
       "      <th>ActionTime</th>\n",
       "      <th>Action</th>\n",
       "      <th>Website</th>\n",
       "      <th>BannerSize</th>\n",
       "      <th>Brand</th>\n",
       "      <th>colour</th>\n",
       "      <th>InteractionTime</th>\n",
       "      <th>DateTime</th>\n",
       "      <th>Year</th>\n",
       "      <th>Month</th>\n",
       "      <th>DayWeek</th>\n",
       "      <th>DayPeriod</th>\n",
       "      <th>Weekend</th>\n",
       "    </tr>\n",
       "  </thead>\n",
       "  <tbody>\n",
       "    <tr>\n",
       "      <th>0</th>\n",
       "      <td>1</td>\n",
       "      <td>AMsySZbNg8SBwPtj7IGHnip_8aY0</td>\n",
       "      <td>1508761859495365</td>\n",
       "      <td>0</td>\n",
       "      <td>Facebook</td>\n",
       "      <td>300x600</td>\n",
       "      <td>Carter's</td>\n",
       "      <td>Pink</td>\n",
       "      <td>0.171601</td>\n",
       "      <td>2017-10-23 12:30:59.495365</td>\n",
       "      <td>2017</td>\n",
       "      <td>10</td>\n",
       "      <td>Monday</td>\n",
       "      <td>Afternoon</td>\n",
       "      <td>0</td>\n",
       "    </tr>\n",
       "    <tr>\n",
       "      <th>1</th>\n",
       "      <td>2</td>\n",
       "      <td>AMsySZZcUFNGOJs-lfC9j-ZDlV7Z</td>\n",
       "      <td>1502847469736117</td>\n",
       "      <td>0</td>\n",
       "      <td>Facebook</td>\n",
       "      <td>300x250</td>\n",
       "      <td>Burberry</td>\n",
       "      <td>Red</td>\n",
       "      <td>4.303945</td>\n",
       "      <td>2017-08-16 01:37:49.736117</td>\n",
       "      <td>2017</td>\n",
       "      <td>8</td>\n",
       "      <td>Wednesday</td>\n",
       "      <td>Night</td>\n",
       "      <td>0</td>\n",
       "    </tr>\n",
       "    <tr>\n",
       "      <th>2</th>\n",
       "      <td>3</td>\n",
       "      <td>AMsySZYoK8_bD0hGv4zu0iRn1TFo</td>\n",
       "      <td>1514169431528120</td>\n",
       "      <td>0</td>\n",
       "      <td>Facebook</td>\n",
       "      <td>728x90</td>\n",
       "      <td>Disney</td>\n",
       "      <td>Yellow</td>\n",
       "      <td>0.868106</td>\n",
       "      <td>2017-12-25 02:37:11.528120</td>\n",
       "      <td>2017</td>\n",
       "      <td>12</td>\n",
       "      <td>Monday</td>\n",
       "      <td>Night</td>\n",
       "      <td>0</td>\n",
       "    </tr>\n",
       "    <tr>\n",
       "      <th>3</th>\n",
       "      <td>4</td>\n",
       "      <td>AMsySZahxpwLOWnMJj6RGATgwEOc</td>\n",
       "      <td>1515527952591896</td>\n",
       "      <td>0</td>\n",
       "      <td>Facebook</td>\n",
       "      <td>320x50</td>\n",
       "      <td>Carter's</td>\n",
       "      <td>Yellow</td>\n",
       "      <td>0.802647</td>\n",
       "      <td>2018-01-09 19:59:12.591896</td>\n",
       "      <td>2018</td>\n",
       "      <td>1</td>\n",
       "      <td>Tuesday</td>\n",
       "      <td>Evening</td>\n",
       "      <td>0</td>\n",
       "    </tr>\n",
       "    <tr>\n",
       "      <th>4</th>\n",
       "      <td>5</td>\n",
       "      <td>AMsySZbqgfMBDtAqZz1jVRaOmX00</td>\n",
       "      <td>1507514809374045</td>\n",
       "      <td>0</td>\n",
       "      <td>instagram.com</td>\n",
       "      <td>300x250</td>\n",
       "      <td>Gap</td>\n",
       "      <td>Gold</td>\n",
       "      <td>0.627148</td>\n",
       "      <td>2017-10-09 02:06:49.374045</td>\n",
       "      <td>2017</td>\n",
       "      <td>10</td>\n",
       "      <td>Monday</td>\n",
       "      <td>Night</td>\n",
       "      <td>0</td>\n",
       "    </tr>\n",
       "  </tbody>\n",
       "</table>\n",
       "</div>"
      ],
      "text/plain": [
       "   Unnamed: 0                            ID        ActionTime  Action  \\\n",
       "0           1  AMsySZbNg8SBwPtj7IGHnip_8aY0  1508761859495365       0   \n",
       "1           2  AMsySZZcUFNGOJs-lfC9j-ZDlV7Z  1502847469736117       0   \n",
       "2           3  AMsySZYoK8_bD0hGv4zu0iRn1TFo  1514169431528120       0   \n",
       "3           4  AMsySZahxpwLOWnMJj6RGATgwEOc  1515527952591896       0   \n",
       "4           5  AMsySZbqgfMBDtAqZz1jVRaOmX00  1507514809374045       0   \n",
       "\n",
       "         Website BannerSize     Brand  colour  InteractionTime  \\\n",
       "0       Facebook    300x600  Carter's    Pink         0.171601   \n",
       "1       Facebook    300x250  Burberry     Red         4.303945   \n",
       "2       Facebook     728x90    Disney  Yellow         0.868106   \n",
       "3       Facebook     320x50  Carter's  Yellow         0.802647   \n",
       "4  instagram.com    300x250       Gap    Gold         0.627148   \n",
       "\n",
       "                    DateTime  Year  Month    DayWeek  DayPeriod  Weekend  \n",
       "0 2017-10-23 12:30:59.495365  2017     10     Monday  Afternoon        0  \n",
       "1 2017-08-16 01:37:49.736117  2017      8  Wednesday      Night        0  \n",
       "2 2017-12-25 02:37:11.528120  2017     12     Monday      Night        0  \n",
       "3 2018-01-09 19:59:12.591896  2018      1    Tuesday    Evening        0  \n",
       "4 2017-10-09 02:06:49.374045  2017     10     Monday      Night        0  "
      ]
     },
     "execution_count": 31,
     "metadata": {},
     "output_type": "execute_result"
    }
   ],
   "source": [
    "df_ctr.head()"
   ]
  },
  {
   "cell_type": "markdown",
   "metadata": {},
   "source": [
    "Seems like we only have 2017 and 2018 in year column, we can convert it to binary as well."
   ]
  },
  {
   "cell_type": "code",
   "execution_count": 32,
   "metadata": {
    "collapsed": false,
    "scrolled": false
   },
   "outputs": [
    {
     "data": {
      "image/png": "[encoded data removed]",
      "text/plain": [
       "<matplotlib.figure.Figure at 0x7f5ac4dd8470>"
      ]
     },
     "metadata": {},
     "output_type": "display_data"
    }
   ],
   "source": [
    "df_ctr['Year'].value_counts().plot(kind='bar')\n",
    "plt.show()"
   ]
  },
  {
   "cell_type": "code",
   "execution_count": 33,
   "metadata": {
    "collapsed": false
   },
   "outputs": [
    {
     "data": {
      "text/plain": [
       "Year\n",
       "2017    0.000211\n",
       "2018    0.000465\n",
       "Name: Action, dtype: float64"
      ]
     },
     "execution_count": 33,
     "metadata": {},
     "output_type": "execute_result"
    }
   ],
   "source": [
    "df_ctr.groupby('Year').mean()['Action']"
   ]
  },
  {
   "cell_type": "code",
   "execution_count": 34,
   "metadata": {
    "collapsed": true
   },
   "outputs": [],
   "source": [
    "df_ctr['Year'] = df_ctr['Year'].apply(lambda x: 1 if x == 2018 else 0)"
   ]
  },
  {
   "cell_type": "code",
   "execution_count": 35,
   "metadata": {
    "collapsed": false,
    "scrolled": false
   },
   "outputs": [
    {
     "data": {
      "image/png": "[encoded data removed]",
      "text/plain": [
       "<matplotlib.figure.Figure at 0x7f5ac4e821d0>"
      ]
     },
     "metadata": {},
     "output_type": "display_data"
    }
   ],
   "source": [
    "df_ctr['Month'].value_counts().plot(kind='bar')\n",
    "plt.show()"
   ]
  },
  {
   "cell_type": "code",
   "execution_count": 36,
   "metadata": {
    "collapsed": false
   },
   "outputs": [
    {
     "data": {
      "text/plain": [
       "Month\n",
       "1     0.000465\n",
       "7     0.000141\n",
       "8     0.000159\n",
       "9     0.000097\n",
       "10    0.000152\n",
       "11    0.000380\n",
       "12    0.000588\n",
       "Name: Action, dtype: float64"
      ]
     },
     "execution_count": 36,
     "metadata": {},
     "output_type": "execute_result"
    }
   ],
   "source": [
    "df_ctr.groupby('Month')['Action'].mean()"
   ]
  },
  {
   "cell_type": "markdown",
   "metadata": {},
   "source": [
    "We can see significant difference for click in the **Month**, as people tend to shop during holiday such as Thanksgiving, Xmas and New Year, which are Nov, Dec and Jan. "
   ]
  },
  {
   "cell_type": "code",
   "execution_count": 37,
   "metadata": {
    "collapsed": false
   },
   "outputs": [
    {
     "data": {
      "image/png": "[encoded data removed]",
      "text/plain": [
       "<matplotlib.figure.Figure at 0x7f5ac51594a8>"
      ]
     },
     "metadata": {},
     "output_type": "display_data"
    }
   ],
   "source": [
    "df_ctr['DayPeriod'].value_counts().plot(kind='bar')\n",
    "plt.show()"
   ]
  },
  {
   "cell_type": "code",
   "execution_count": 38,
   "metadata": {
    "collapsed": false,
    "scrolled": true
   },
   "outputs": [
    {
     "data": {
      "text/plain": [
       "DayPeriod\n",
       "Morning      0.000147\n",
       "Afternoon    0.000284\n",
       "Evening      0.000345\n",
       "Night        0.000175\n",
       "Name: Action, dtype: float64"
      ]
     },
     "execution_count": 38,
     "metadata": {},
     "output_type": "execute_result"
    }
   ],
   "source": [
    "df_ctr.groupby('DayPeriod')['Action'].mean()"
   ]
  },
  {
   "cell_type": "markdown",
   "metadata": {},
   "source": [
    "We see some variantions in period of day, which can be a good feature. People tend to shop more in afternoon and evenning, like maybe after lunch and dinner... This correlates very well with user behavior."
   ]
  },
  {
   "cell_type": "code",
   "execution_count": 39,
   "metadata": {
    "collapsed": false
   },
   "outputs": [
    {
     "data": {
      "image/png": "[encoded data removed]",
      "text/plain": [
       "<matplotlib.figure.Figure at 0x7f5ac5044860>"
      ]
     },
     "metadata": {},
     "output_type": "display_data"
    }
   ],
   "source": [
    "df_ctr['DayWeek'].value_counts().plot(kind='bar')\n",
    "plt.show()"
   ]
  },
  {
   "cell_type": "code",
   "execution_count": 40,
   "metadata": {
    "collapsed": false
   },
   "outputs": [
    {
     "data": {
      "text/plain": [
       "DayWeek\n",
       "Friday       0.000301\n",
       "Monday       0.000281\n",
       "Saturday     0.000191\n",
       "Sunday       0.000097\n",
       "Thursday     0.000268\n",
       "Tuesday      0.000339\n",
       "Wednesday    0.000208\n",
       "Name: Action, dtype: float64"
      ]
     },
     "execution_count": 40,
     "metadata": {},
     "output_type": "execute_result"
    }
   ],
   "source": [
    "df_ctr.groupby('DayWeek')['Action'].mean()"
   ]
  },
  {
   "cell_type": "markdown",
   "metadata": {},
   "source": [
    "The day of week does show some variations in clicks, but not too significant."
   ]
  },
  {
   "cell_type": "code",
   "execution_count": 41,
   "metadata": {
    "collapsed": false
   },
   "outputs": [
    {
     "data": {
      "image/png": "[encoded data removed]",
      "text/plain": [
       "<matplotlib.figure.Figure at 0x7f5ac4f62518>"
      ]
     },
     "metadata": {},
     "output_type": "display_data"
    }
   ],
   "source": [
    "df_ctr['Weekend'].value_counts().plot(kind='bar')\n",
    "plt.show()"
   ]
  },
  {
   "cell_type": "code",
   "execution_count": 42,
   "metadata": {
    "collapsed": false
   },
   "outputs": [
    {
     "data": {
      "text/plain": [
       "Weekend\n",
       "0    0.000280\n",
       "1    0.000143\n",
       "Name: Action, dtype: float64"
      ]
     },
     "execution_count": 42,
     "metadata": {},
     "output_type": "execute_result"
    }
   ],
   "source": [
    "df_ctr.groupby('Weekend')['Action'].mean()"
   ]
  },
  {
   "cell_type": "markdown",
   "metadata": {},
   "source": [
    "**Weekend** seems to be a good feature, and it correlates well to human behavior. People tend to shop more during weekends."
   ]
  },
  {
   "cell_type": "markdown",
   "metadata": {},
   "source": [
    "Convert categorical data to one-hot-encoding"
   ]
  },
  {
   "cell_type": "code",
   "execution_count": 43,
   "metadata": {
    "collapsed": false
   },
   "outputs": [],
   "source": [
    "# Ad-dependent\n",
    "df_ctr['Website'] = df_ctr['Website'].astype('category')\n",
    "df_ctr['BannerSize'] = df_ctr['BannerSize'].astype('category')\n",
    "df_ctr['Brand'] = df_ctr['Brand'].astype('category')\n",
    "df_ctr['colour'] = df_ctr['colour'].astype('category')\n",
    "\n",
    "# Temporal-dependent\n",
    "df_ctr['DayPeriod'] = df_ctr['DayPeriod'].astype('category')\n",
    "df_ctr['DayWeek'] = df_ctr['DayWeek'].astype('category')\n",
    "df_ctr['Month'] = df_ctr['Month'].astype('category')"
   ]
  },
  {
   "cell_type": "code",
   "execution_count": 44,
   "metadata": {
    "collapsed": false
   },
   "outputs": [
    {
     "data": {
      "text/html": [
       "<div>\n",
       "<style scoped>\n",
       "    .dataframe tbody tr th:only-of-type {\n",
       "        vertical-align: middle;\n",
       "    }\n",
       "\n",
       "    .dataframe tbody tr th {\n",
       "        vertical-align: top;\n",
       "    }\n",
       "\n",
       "    .dataframe thead th {\n",
       "        text-align: right;\n",
       "    }\n",
       "</style>\n",
       "<table border=\"1\" class=\"dataframe\">\n",
       "  <thead>\n",
       "    <tr style=\"text-align: right;\">\n",
       "      <th></th>\n",
       "      <th>Unnamed: 0</th>\n",
       "      <th>ID</th>\n",
       "      <th>ActionTime</th>\n",
       "      <th>Action</th>\n",
       "      <th>Website</th>\n",
       "      <th>BannerSize</th>\n",
       "      <th>Brand</th>\n",
       "      <th>colour</th>\n",
       "      <th>InteractionTime</th>\n",
       "      <th>DateTime</th>\n",
       "      <th>Year</th>\n",
       "      <th>Month</th>\n",
       "      <th>DayWeek</th>\n",
       "      <th>DayPeriod</th>\n",
       "      <th>Weekend</th>\n",
       "    </tr>\n",
       "  </thead>\n",
       "  <tbody>\n",
       "    <tr>\n",
       "      <th>0</th>\n",
       "      <td>1</td>\n",
       "      <td>AMsySZbNg8SBwPtj7IGHnip_8aY0</td>\n",
       "      <td>1508761859495365</td>\n",
       "      <td>0</td>\n",
       "      <td>Facebook</td>\n",
       "      <td>300x600</td>\n",
       "      <td>Carter's</td>\n",
       "      <td>Pink</td>\n",
       "      <td>0.171601</td>\n",
       "      <td>2017-10-23 12:30:59.495365</td>\n",
       "      <td>0</td>\n",
       "      <td>10</td>\n",
       "      <td>Monday</td>\n",
       "      <td>Afternoon</td>\n",
       "      <td>0</td>\n",
       "    </tr>\n",
       "    <tr>\n",
       "      <th>1</th>\n",
       "      <td>2</td>\n",
       "      <td>AMsySZZcUFNGOJs-lfC9j-ZDlV7Z</td>\n",
       "      <td>1502847469736117</td>\n",
       "      <td>0</td>\n",
       "      <td>Facebook</td>\n",
       "      <td>300x250</td>\n",
       "      <td>Burberry</td>\n",
       "      <td>Red</td>\n",
       "      <td>4.303945</td>\n",
       "      <td>2017-08-16 01:37:49.736117</td>\n",
       "      <td>0</td>\n",
       "      <td>8</td>\n",
       "      <td>Wednesday</td>\n",
       "      <td>Night</td>\n",
       "      <td>0</td>\n",
       "    </tr>\n",
       "    <tr>\n",
       "      <th>2</th>\n",
       "      <td>3</td>\n",
       "      <td>AMsySZYoK8_bD0hGv4zu0iRn1TFo</td>\n",
       "      <td>1514169431528120</td>\n",
       "      <td>0</td>\n",
       "      <td>Facebook</td>\n",
       "      <td>728x90</td>\n",
       "      <td>Disney</td>\n",
       "      <td>Yellow</td>\n",
       "      <td>0.868106</td>\n",
       "      <td>2017-12-25 02:37:11.528120</td>\n",
       "      <td>0</td>\n",
       "      <td>12</td>\n",
       "      <td>Monday</td>\n",
       "      <td>Night</td>\n",
       "      <td>0</td>\n",
       "    </tr>\n",
       "    <tr>\n",
       "      <th>3</th>\n",
       "      <td>4</td>\n",
       "      <td>AMsySZahxpwLOWnMJj6RGATgwEOc</td>\n",
       "      <td>1515527952591896</td>\n",
       "      <td>0</td>\n",
       "      <td>Facebook</td>\n",
       "      <td>320x50</td>\n",
       "      <td>Carter's</td>\n",
       "      <td>Yellow</td>\n",
       "      <td>0.802647</td>\n",
       "      <td>2018-01-09 19:59:12.591896</td>\n",
       "      <td>1</td>\n",
       "      <td>1</td>\n",
       "      <td>Tuesday</td>\n",
       "      <td>Evening</td>\n",
       "      <td>0</td>\n",
       "    </tr>\n",
       "    <tr>\n",
       "      <th>4</th>\n",
       "      <td>5</td>\n",
       "      <td>AMsySZbqgfMBDtAqZz1jVRaOmX00</td>\n",
       "      <td>1507514809374045</td>\n",
       "      <td>0</td>\n",
       "      <td>instagram.com</td>\n",
       "      <td>300x250</td>\n",
       "      <td>Gap</td>\n",
       "      <td>Gold</td>\n",
       "      <td>0.627148</td>\n",
       "      <td>2017-10-09 02:06:49.374045</td>\n",
       "      <td>0</td>\n",
       "      <td>10</td>\n",
       "      <td>Monday</td>\n",
       "      <td>Night</td>\n",
       "      <td>0</td>\n",
       "    </tr>\n",
       "  </tbody>\n",
       "</table>\n",
       "</div>"
      ],
      "text/plain": [
       "   Unnamed: 0                            ID        ActionTime  Action  \\\n",
       "0           1  AMsySZbNg8SBwPtj7IGHnip_8aY0  1508761859495365       0   \n",
       "1           2  AMsySZZcUFNGOJs-lfC9j-ZDlV7Z  1502847469736117       0   \n",
       "2           3  AMsySZYoK8_bD0hGv4zu0iRn1TFo  1514169431528120       0   \n",
       "3           4  AMsySZahxpwLOWnMJj6RGATgwEOc  1515527952591896       0   \n",
       "4           5  AMsySZbqgfMBDtAqZz1jVRaOmX00  1507514809374045       0   \n",
       "\n",
       "         Website BannerSize     Brand  colour  InteractionTime  \\\n",
       "0       Facebook    300x600  Carter's    Pink         0.171601   \n",
       "1       Facebook    300x250  Burberry     Red         4.303945   \n",
       "2       Facebook     728x90    Disney  Yellow         0.868106   \n",
       "3       Facebook     320x50  Carter's  Yellow         0.802647   \n",
       "4  instagram.com    300x250       Gap    Gold         0.627148   \n",
       "\n",
       "                    DateTime  Year Month    DayWeek  DayPeriod  Weekend  \n",
       "0 2017-10-23 12:30:59.495365     0    10     Monday  Afternoon        0  \n",
       "1 2017-08-16 01:37:49.736117     0     8  Wednesday      Night        0  \n",
       "2 2017-12-25 02:37:11.528120     0    12     Monday      Night        0  \n",
       "3 2018-01-09 19:59:12.591896     1     1    Tuesday    Evening        0  \n",
       "4 2017-10-09 02:06:49.374045     0    10     Monday      Night        0  "
      ]
     },
     "execution_count": 44,
     "metadata": {},
     "output_type": "execute_result"
    }
   ],
   "source": [
    "df_ctr.head()"
   ]
  },
  {
   "cell_type": "code",
   "execution_count": 45,
   "metadata": {
    "collapsed": false
   },
   "outputs": [],
   "source": [
    "# Ad-dependent\n",
    "dummy_website = pd.get_dummies(df_ctr['Website'], prefix='Website')\n",
    "dummy_banner = pd.get_dummies(df_ctr['BannerSize'], prefix='BannerSize')\n",
    "dummy_brand = pd.get_dummies(df_ctr['Brand'], prefix='Brand')\n",
    "dummy_colour = pd.get_dummies(df_ctr['colour'], prefix='colour')\n",
    "\n",
    "# Temporal-dependent\n",
    "dummy_dayperid = pd.get_dummies(df_ctr['DayPeriod'], prefix='DayPeriod')\n",
    "dummy_dayweek = pd.get_dummies(df_ctr['DayWeek'], prefix='DayWeek')\n",
    "dummy_month = pd.get_dummies(df_ctr['Month'], prefix='Month')"
   ]
  },
  {
   "cell_type": "markdown",
   "metadata": {
    "collapsed": true
   },
   "source": [
    "From the above preliminary analysis on all the features, I decide to drop **color** that has low variation between target response, and user **Weekend** instead of **DayWeek** that has more difference in terms of average clicks also to avoid potential collinearity."
   ]
  },
  {
   "cell_type": "code",
   "execution_count": 46,
   "metadata": {
    "collapsed": false
   },
   "outputs": [],
   "source": [
    "col_keep = ['InteractionTime', 'Year', 'Weekend']\n",
    "df_data = pd.concat([df_ctr[col_keep],\n",
    "                     dummy_website,\n",
    "                     dummy_banner,\n",
    "                     dummy_brand,\n",
    "                     dummy_dayperid,\n",
    "                     dummy_month], axis=1)\n",
    "\n",
    "columns = df_data.columns.tolist()"
   ]
  },
  {
   "cell_type": "code",
   "execution_count": 47,
   "metadata": {
    "collapsed": false,
    "scrolled": true
   },
   "outputs": [
    {
     "data": {
      "text/html": [
       "<div>\n",
       "<style scoped>\n",
       "    .dataframe tbody tr th:only-of-type {\n",
       "        vertical-align: middle;\n",
       "    }\n",
       "\n",
       "    .dataframe tbody tr th {\n",
       "        vertical-align: top;\n",
       "    }\n",
       "\n",
       "    .dataframe thead th {\n",
       "        text-align: right;\n",
       "    }\n",
       "</style>\n",
       "<table border=\"1\" class=\"dataframe\">\n",
       "  <thead>\n",
       "    <tr style=\"text-align: right;\">\n",
       "      <th></th>\n",
       "      <th>InteractionTime</th>\n",
       "      <th>Year</th>\n",
       "      <th>Weekend</th>\n",
       "      <th>Website_AOL</th>\n",
       "      <th>Website_Amazon</th>\n",
       "      <th>Website_Atedra</th>\n",
       "      <th>Website_Craigslist.ca</th>\n",
       "      <th>Website_Expedia</th>\n",
       "      <th>Website_Facebook</th>\n",
       "      <th>Website_Kijiji</th>\n",
       "      <th>...</th>\n",
       "      <th>DayPeriod_Afternoon</th>\n",
       "      <th>DayPeriod_Evening</th>\n",
       "      <th>DayPeriod_Night</th>\n",
       "      <th>Month_1</th>\n",
       "      <th>Month_7</th>\n",
       "      <th>Month_8</th>\n",
       "      <th>Month_9</th>\n",
       "      <th>Month_10</th>\n",
       "      <th>Month_11</th>\n",
       "      <th>Month_12</th>\n",
       "    </tr>\n",
       "  </thead>\n",
       "  <tbody>\n",
       "    <tr>\n",
       "      <th>0</th>\n",
       "      <td>0.171601</td>\n",
       "      <td>0</td>\n",
       "      <td>0</td>\n",
       "      <td>0</td>\n",
       "      <td>0</td>\n",
       "      <td>0</td>\n",
       "      <td>0</td>\n",
       "      <td>0</td>\n",
       "      <td>1</td>\n",
       "      <td>0</td>\n",
       "      <td>...</td>\n",
       "      <td>1</td>\n",
       "      <td>0</td>\n",
       "      <td>0</td>\n",
       "      <td>0</td>\n",
       "      <td>0</td>\n",
       "      <td>0</td>\n",
       "      <td>0</td>\n",
       "      <td>1</td>\n",
       "      <td>0</td>\n",
       "      <td>0</td>\n",
       "    </tr>\n",
       "    <tr>\n",
       "      <th>1</th>\n",
       "      <td>4.303945</td>\n",
       "      <td>0</td>\n",
       "      <td>0</td>\n",
       "      <td>0</td>\n",
       "      <td>0</td>\n",
       "      <td>0</td>\n",
       "      <td>0</td>\n",
       "      <td>0</td>\n",
       "      <td>1</td>\n",
       "      <td>0</td>\n",
       "      <td>...</td>\n",
       "      <td>0</td>\n",
       "      <td>0</td>\n",
       "      <td>1</td>\n",
       "      <td>0</td>\n",
       "      <td>0</td>\n",
       "      <td>1</td>\n",
       "      <td>0</td>\n",
       "      <td>0</td>\n",
       "      <td>0</td>\n",
       "      <td>0</td>\n",
       "    </tr>\n",
       "    <tr>\n",
       "      <th>2</th>\n",
       "      <td>0.868106</td>\n",
       "      <td>0</td>\n",
       "      <td>0</td>\n",
       "      <td>0</td>\n",
       "      <td>0</td>\n",
       "      <td>0</td>\n",
       "      <td>0</td>\n",
       "      <td>0</td>\n",
       "      <td>1</td>\n",
       "      <td>0</td>\n",
       "      <td>...</td>\n",
       "      <td>0</td>\n",
       "      <td>0</td>\n",
       "      <td>1</td>\n",
       "      <td>0</td>\n",
       "      <td>0</td>\n",
       "      <td>0</td>\n",
       "      <td>0</td>\n",
       "      <td>0</td>\n",
       "      <td>0</td>\n",
       "      <td>1</td>\n",
       "    </tr>\n",
       "    <tr>\n",
       "      <th>3</th>\n",
       "      <td>0.802647</td>\n",
       "      <td>1</td>\n",
       "      <td>0</td>\n",
       "      <td>0</td>\n",
       "      <td>0</td>\n",
       "      <td>0</td>\n",
       "      <td>0</td>\n",
       "      <td>0</td>\n",
       "      <td>1</td>\n",
       "      <td>0</td>\n",
       "      <td>...</td>\n",
       "      <td>0</td>\n",
       "      <td>1</td>\n",
       "      <td>0</td>\n",
       "      <td>1</td>\n",
       "      <td>0</td>\n",
       "      <td>0</td>\n",
       "      <td>0</td>\n",
       "      <td>0</td>\n",
       "      <td>0</td>\n",
       "      <td>0</td>\n",
       "    </tr>\n",
       "    <tr>\n",
       "      <th>4</th>\n",
       "      <td>0.627148</td>\n",
       "      <td>0</td>\n",
       "      <td>0</td>\n",
       "      <td>0</td>\n",
       "      <td>0</td>\n",
       "      <td>0</td>\n",
       "      <td>0</td>\n",
       "      <td>0</td>\n",
       "      <td>0</td>\n",
       "      <td>0</td>\n",
       "      <td>...</td>\n",
       "      <td>0</td>\n",
       "      <td>0</td>\n",
       "      <td>1</td>\n",
       "      <td>0</td>\n",
       "      <td>0</td>\n",
       "      <td>0</td>\n",
       "      <td>0</td>\n",
       "      <td>1</td>\n",
       "      <td>0</td>\n",
       "      <td>0</td>\n",
       "    </tr>\n",
       "  </tbody>\n",
       "</table>\n",
       "<p>5 rows × 54 columns</p>\n",
       "</div>"
      ],
      "text/plain": [
       "   InteractionTime  Year  Weekend  Website_AOL  Website_Amazon  \\\n",
       "0         0.171601     0        0            0               0   \n",
       "1         4.303945     0        0            0               0   \n",
       "2         0.868106     0        0            0               0   \n",
       "3         0.802647     1        0            0               0   \n",
       "4         0.627148     0        0            0               0   \n",
       "\n",
       "   Website_Atedra  Website_Craigslist.ca  Website_Expedia  Website_Facebook  \\\n",
       "0               0                      0                0                 1   \n",
       "1               0                      0                0                 1   \n",
       "2               0                      0                0                 1   \n",
       "3               0                      0                0                 1   \n",
       "4               0                      0                0                 0   \n",
       "\n",
       "   Website_Kijiji    ...     DayPeriod_Afternoon  DayPeriod_Evening  \\\n",
       "0               0    ...                       1                  0   \n",
       "1               0    ...                       0                  0   \n",
       "2               0    ...                       0                  0   \n",
       "3               0    ...                       0                  1   \n",
       "4               0    ...                       0                  0   \n",
       "\n",
       "   DayPeriod_Night  Month_1  Month_7  Month_8  Month_9  Month_10  Month_11  \\\n",
       "0                0        0        0        0        0         1         0   \n",
       "1                1        0        0        1        0         0         0   \n",
       "2                1        0        0        0        0         0         0   \n",
       "3                0        1        0        0        0         0         0   \n",
       "4                1        0        0        0        0         1         0   \n",
       "\n",
       "   Month_12  \n",
       "0         0  \n",
       "1         0  \n",
       "2         1  \n",
       "3         0  \n",
       "4         0  \n",
       "\n",
       "[5 rows x 54 columns]"
      ]
     },
     "execution_count": 47,
     "metadata": {},
     "output_type": "execute_result"
    }
   ],
   "source": [
    "df_data.head()"
   ]
  },
  {
   "cell_type": "markdown",
   "metadata": {
    "collapsed": true
   },
   "source": [
    "## Feature Selection"
   ]
  },
  {
   "cell_type": "markdown",
   "metadata": {
    "collapsed": false
   },
   "source": [
    "Now we do feature selection in a systematic approach. The following sections contain univariate analysis (Chi-squared test), multivariate regression analysis with *statsmodels*'s Logistic Regression and Recursive Feature Elimination (multivariate)."
   ]
  },
  {
   "cell_type": "markdown",
   "metadata": {},
   "source": [
    "### Univariate Analysis\n",
    "As most of our variables are categorical, Chi-squaref test could be a desirable hypothesis testing to evaluate the impact or significance between our feature variables and target."
   ]
  },
  {
   "cell_type": "code",
   "execution_count": 50,
   "metadata": {
    "collapsed": false
   },
   "outputs": [],
   "source": [
    "selector_chi2 = SelectKBest(chi2, 'all')\n",
    "selector_chi2.fit(df_data, df_ctr['Action'])\n",
    "pp = selector_chi2.pvalues_"
   ]
  },
  {
   "cell_type": "code",
   "execution_count": 51,
   "metadata": {
    "collapsed": false,
    "scrolled": true
   },
   "outputs": [
    {
     "data": {
      "text/plain": [
       "[(1.2166203550106162e-21, 'BannerSize_1x1'),\n",
       " (3.86337770609294e-11, 'Month_12'),\n",
       " (4.644557833630922e-09, 'BannerSize_160x600'),\n",
       " (9.657270400008302e-08, 'BannerSize_300x50'),\n",
       " (2.8790587416898255e-07, 'Month_1'),\n",
       " (2.8790587416898255e-07, 'Year'),\n",
       " (8.159913484964679e-06, 'Month_9'),\n",
       " (0.0001947325123924221, 'Website_Kijiji'),\n",
       " (0.0007716742310683848, 'Website_Atedra'),\n",
       " (0.0009229774615929495, 'Weekend'),\n",
       " (0.0010094867206909804, 'Website_Expedia'),\n",
       " (0.002102356309380668, 'Month_10'),\n",
       " (0.00250924092873302, 'DayPeriod_Evening'),\n",
       " (0.005183400615976847, 'Month_11'),\n",
       " (0.00526626472214336, 'Website_Craigslist.ca'),\n",
       " (0.009510257383632365, 'DayPeriod_Night'),\n",
       " (0.021254185132787772, 'BannerSize_750x125'),\n",
       " (0.023296770739114254, 'Website_Twitter'),\n",
       " (0.0339675124172317, 'DayPeriod_Morning'),\n",
       " (0.039121615435606, 'Month_8'),\n",
       " (0.04822613230124487, 'BannerSize_300x250'),\n",
       " (0.059889673159506024, 'Brand_Banana Republic'),\n",
       " (0.09361207719741792, 'Website_Other'),\n",
       " (0.10506297660216293, 'Brand_Disney'),\n",
       " (0.12453584136748105, 'Website_instagram.com'),\n",
       " (0.12490868312052225, 'Website_Facebook'),\n",
       " (0.1435607691571333, 'DayPeriod_Afternoon'),\n",
       " (0.15463611621689122, 'Brand_gymboree'),\n",
       " (0.17222175962037234, 'BannerSize_Other'),\n",
       " (0.18761599508716184, 'BannerSize_320x480'),\n",
       " (0.19957548079100626, 'Brand_Gap'),\n",
       " (0.21371111161365575, 'Month_7'),\n",
       " (0.2622374260273196, 'Website_Youtube'),\n",
       " (0.2638183820389055, 'Website_Weather'),\n",
       " (0.2850127989849277, 'BannerSize_1200x627'),\n",
       " (0.2874765533409827, 'Website_Sympatico'),\n",
       " (0.3622913905381858, 'BannerSize_300x600'),\n",
       " (0.41594384216258706, 'BannerSize_320x50'),\n",
       " (0.43684396609897014, 'Website_Yahoo'),\n",
       " (0.4409708387549075, 'Website_TubeMogul'),\n",
       " (0.4845640141603794, 'Brand_JoeFresh'),\n",
       " (0.5077686090265341, 'Brand_Zara'),\n",
       " (0.5256566968677558, \"Brand_Carter's\"),\n",
       " (0.5774080112725463, 'BannerSize_320x100'),\n",
       " (0.5935609045343924, 'BannerSize_768x1024'),\n",
       " (0.6541337988204674, \"Brand_The Children's Place\"),\n",
       " (0.6641462494711755, 'Website_Amazon'),\n",
       " (0.7095082929352858, 'Brand_Old Navy'),\n",
       " (0.7116108106058174, 'Website_AOL'),\n",
       " (0.725645380770749, 'InteractionTime'),\n",
       " (0.7802255759047958, 'BannerSize_1536x2048'),\n",
       " (0.8830012957758315, 'Brand_Burberry'),\n",
       " (0.9810151056924732, 'Website_Wayfair'),\n",
       " (0.9858659110478927, 'BannerSize_728x90')]"
      ]
     },
     "execution_count": 51,
     "metadata": {},
     "output_type": "execute_result"
    }
   ],
   "source": [
    "chi2_ranked_feats = sorted(zip(pp, columns))\n",
    "chi2_ranked_feats"
   ]
  },
  {
   "cell_type": "code",
   "execution_count": 52,
   "metadata": {
    "collapsed": false
   },
   "outputs": [
    {
     "data": {
      "text/plain": [
       "21"
      ]
     },
     "execution_count": 52,
     "metadata": {},
     "output_type": "execute_result"
    }
   ],
   "source": [
    "np.count_nonzero(pp < 0.05)"
   ]
  },
  {
   "cell_type": "markdown",
   "metadata": {},
   "source": [
    "We found that there are only 21 features that are considered as useful (or statisitical significant) for the target (p-value < 0.05)."
   ]
  },
  {
   "cell_type": "code",
   "execution_count": 53,
   "metadata": {
    "collapsed": false,
    "scrolled": false
   },
   "outputs": [
    {
     "data": {
      "text/plain": [
       "['BannerSize_1x1',\n",
       " 'Month_12',\n",
       " 'BannerSize_160x600',\n",
       " 'BannerSize_300x50',\n",
       " 'Month_1',\n",
       " 'Year',\n",
       " 'Month_9',\n",
       " 'Website_Kijiji',\n",
       " 'Website_Atedra',\n",
       " 'Weekend',\n",
       " 'Website_Expedia',\n",
       " 'Month_10',\n",
       " 'DayPeriod_Evening',\n",
       " 'Month_11',\n",
       " 'Website_Craigslist.ca',\n",
       " 'DayPeriod_Night',\n",
       " 'BannerSize_750x125',\n",
       " 'Website_Twitter',\n",
       " 'DayPeriod_Morning',\n",
       " 'Month_8',\n",
       " 'BannerSize_300x250']"
      ]
     },
     "execution_count": 53,
     "metadata": {},
     "output_type": "execute_result"
    }
   ],
   "source": [
    "top_chi2_feats = [feat for _, feat in chi2_ranked_feats[:21]]\n",
    "top_chi2_feats"
   ]
  },
  {
   "cell_type": "markdown",
   "metadata": {},
   "source": [
    "### Regression Analysis (Multivariate)\n",
    "After obtaining the top features based on univariate analysis, it is essential to see how those features perform together. The logistic regression analysis is also a good starting point to do multvariate analysis, since our dependent variabels are categorical by most and we have a binary response in target. Here we only performs the regression analysis with the top 21 features yield from chi-squared test."
   ]
  },
  {
   "cell_type": "code",
   "execution_count": 54,
   "metadata": {
    "collapsed": true
   },
   "outputs": [],
   "source": [
    "df_top_chi2 = df_data[top_chi2_feats]"
   ]
  },
  {
   "cell_type": "code",
   "execution_count": 55,
   "metadata": {
    "collapsed": false,
    "scrolled": true
   },
   "outputs": [
    {
     "name": "stderr",
     "output_type": "stream",
     "text": [
      "/usr/local/lib/python3.5/dist-packages/ipykernel/__main__.py:1: SettingWithCopyWarning: \n",
      "A value is trying to be set on a copy of a slice from a DataFrame.\n",
      "Try using .loc[row_indexer,col_indexer] = value instead\n",
      "\n",
      "See the caveats in the documentation: http://pandas.pydata.org/pandas-docs/stable/indexing.html#indexing-view-versus-copy\n",
      "  if __name__ == '__main__':\n"
     ]
    },
    {
     "data": {
      "text/html": [
       "<div>\n",
       "<style scoped>\n",
       "    .dataframe tbody tr th:only-of-type {\n",
       "        vertical-align: middle;\n",
       "    }\n",
       "\n",
       "    .dataframe tbody tr th {\n",
       "        vertical-align: top;\n",
       "    }\n",
       "\n",
       "    .dataframe thead th {\n",
       "        text-align: right;\n",
       "    }\n",
       "</style>\n",
       "<table border=\"1\" class=\"dataframe\">\n",
       "  <thead>\n",
       "    <tr style=\"text-align: right;\">\n",
       "      <th></th>\n",
       "      <th>BannerSize_1x1</th>\n",
       "      <th>Month_12</th>\n",
       "      <th>BannerSize_160x600</th>\n",
       "      <th>BannerSize_300x50</th>\n",
       "      <th>Month_1</th>\n",
       "      <th>Year</th>\n",
       "      <th>Month_9</th>\n",
       "      <th>Website_Kijiji</th>\n",
       "      <th>Website_Atedra</th>\n",
       "      <th>Weekend</th>\n",
       "      <th>...</th>\n",
       "      <th>DayPeriod_Evening</th>\n",
       "      <th>Month_11</th>\n",
       "      <th>Website_Craigslist.ca</th>\n",
       "      <th>DayPeriod_Night</th>\n",
       "      <th>BannerSize_750x125</th>\n",
       "      <th>Website_Twitter</th>\n",
       "      <th>DayPeriod_Morning</th>\n",
       "      <th>Month_8</th>\n",
       "      <th>BannerSize_300x250</th>\n",
       "      <th>Intercept</th>\n",
       "    </tr>\n",
       "  </thead>\n",
       "  <tbody>\n",
       "    <tr>\n",
       "      <th>0</th>\n",
       "      <td>0</td>\n",
       "      <td>0</td>\n",
       "      <td>0</td>\n",
       "      <td>0</td>\n",
       "      <td>0</td>\n",
       "      <td>0</td>\n",
       "      <td>0</td>\n",
       "      <td>0</td>\n",
       "      <td>0</td>\n",
       "      <td>0</td>\n",
       "      <td>...</td>\n",
       "      <td>0</td>\n",
       "      <td>0</td>\n",
       "      <td>0</td>\n",
       "      <td>0</td>\n",
       "      <td>0</td>\n",
       "      <td>0</td>\n",
       "      <td>0</td>\n",
       "      <td>0</td>\n",
       "      <td>0</td>\n",
       "      <td>1</td>\n",
       "    </tr>\n",
       "    <tr>\n",
       "      <th>1</th>\n",
       "      <td>0</td>\n",
       "      <td>0</td>\n",
       "      <td>0</td>\n",
       "      <td>0</td>\n",
       "      <td>0</td>\n",
       "      <td>0</td>\n",
       "      <td>0</td>\n",
       "      <td>0</td>\n",
       "      <td>0</td>\n",
       "      <td>0</td>\n",
       "      <td>...</td>\n",
       "      <td>0</td>\n",
       "      <td>0</td>\n",
       "      <td>0</td>\n",
       "      <td>1</td>\n",
       "      <td>0</td>\n",
       "      <td>0</td>\n",
       "      <td>0</td>\n",
       "      <td>1</td>\n",
       "      <td>1</td>\n",
       "      <td>1</td>\n",
       "    </tr>\n",
       "    <tr>\n",
       "      <th>2</th>\n",
       "      <td>0</td>\n",
       "      <td>1</td>\n",
       "      <td>0</td>\n",
       "      <td>0</td>\n",
       "      <td>0</td>\n",
       "      <td>0</td>\n",
       "      <td>0</td>\n",
       "      <td>0</td>\n",
       "      <td>0</td>\n",
       "      <td>0</td>\n",
       "      <td>...</td>\n",
       "      <td>0</td>\n",
       "      <td>0</td>\n",
       "      <td>0</td>\n",
       "      <td>1</td>\n",
       "      <td>0</td>\n",
       "      <td>0</td>\n",
       "      <td>0</td>\n",
       "      <td>0</td>\n",
       "      <td>0</td>\n",
       "      <td>1</td>\n",
       "    </tr>\n",
       "    <tr>\n",
       "      <th>3</th>\n",
       "      <td>0</td>\n",
       "      <td>0</td>\n",
       "      <td>0</td>\n",
       "      <td>0</td>\n",
       "      <td>1</td>\n",
       "      <td>1</td>\n",
       "      <td>0</td>\n",
       "      <td>0</td>\n",
       "      <td>0</td>\n",
       "      <td>0</td>\n",
       "      <td>...</td>\n",
       "      <td>1</td>\n",
       "      <td>0</td>\n",
       "      <td>0</td>\n",
       "      <td>0</td>\n",
       "      <td>0</td>\n",
       "      <td>0</td>\n",
       "      <td>0</td>\n",
       "      <td>0</td>\n",
       "      <td>0</td>\n",
       "      <td>1</td>\n",
       "    </tr>\n",
       "    <tr>\n",
       "      <th>4</th>\n",
       "      <td>0</td>\n",
       "      <td>0</td>\n",
       "      <td>0</td>\n",
       "      <td>0</td>\n",
       "      <td>0</td>\n",
       "      <td>0</td>\n",
       "      <td>0</td>\n",
       "      <td>0</td>\n",
       "      <td>0</td>\n",
       "      <td>0</td>\n",
       "      <td>...</td>\n",
       "      <td>0</td>\n",
       "      <td>0</td>\n",
       "      <td>0</td>\n",
       "      <td>1</td>\n",
       "      <td>0</td>\n",
       "      <td>0</td>\n",
       "      <td>0</td>\n",
       "      <td>0</td>\n",
       "      <td>1</td>\n",
       "      <td>1</td>\n",
       "    </tr>\n",
       "  </tbody>\n",
       "</table>\n",
       "<p>5 rows × 22 columns</p>\n",
       "</div>"
      ],
      "text/plain": [
       "   BannerSize_1x1  Month_12  BannerSize_160x600  BannerSize_300x50  Month_1  \\\n",
       "0               0         0                   0                  0        0   \n",
       "1               0         0                   0                  0        0   \n",
       "2               0         1                   0                  0        0   \n",
       "3               0         0                   0                  0        1   \n",
       "4               0         0                   0                  0        0   \n",
       "\n",
       "   Year  Month_9  Website_Kijiji  Website_Atedra  Weekend    ...      \\\n",
       "0     0        0               0               0        0    ...       \n",
       "1     0        0               0               0        0    ...       \n",
       "2     0        0               0               0        0    ...       \n",
       "3     1        0               0               0        0    ...       \n",
       "4     0        0               0               0        0    ...       \n",
       "\n",
       "   DayPeriod_Evening  Month_11  Website_Craigslist.ca  DayPeriod_Night  \\\n",
       "0                  0         0                      0                0   \n",
       "1                  0         0                      0                1   \n",
       "2                  0         0                      0                1   \n",
       "3                  1         0                      0                0   \n",
       "4                  0         0                      0                1   \n",
       "\n",
       "   BannerSize_750x125  Website_Twitter  DayPeriod_Morning  Month_8  \\\n",
       "0                   0                0                  0        0   \n",
       "1                   0                0                  0        1   \n",
       "2                   0                0                  0        0   \n",
       "3                   0                0                  0        0   \n",
       "4                   0                0                  0        0   \n",
       "\n",
       "   BannerSize_300x250  Intercept  \n",
       "0                   0          1  \n",
       "1                   1          1  \n",
       "2                   0          1  \n",
       "3                   0          1  \n",
       "4                   1          1  \n",
       "\n",
       "[5 rows x 22 columns]"
      ]
     },
     "execution_count": 55,
     "metadata": {},
     "output_type": "execute_result"
    }
   ],
   "source": [
    "df_top_chi2['Intercept'] = 1\n",
    "df_top_chi2.head()"
   ]
  },
  {
   "cell_type": "code",
   "execution_count": 117,
   "metadata": {
    "collapsed": false
   },
   "outputs": [
    {
     "name": "stdout",
     "output_type": "stream",
     "text": [
      "Optimization terminated successfully.\n",
      "         Current function value: 0.002174\n",
      "         Iterations: 71\n",
      "         Function evaluations: 72\n",
      "         Gradient evaluations: 72\n"
     ]
    },
    {
     "name": "stderr",
     "output_type": "stream",
     "text": [
      "/resources/common/.virtualenv/python3/lib/python3.5/site-packages/statsmodels/base/model.py:473: HessianInversionWarning: Inverting hessian failed, no bse or cov_params available\n",
      "  'available', HessianInversionWarning)\n"
     ]
    }
   ],
   "source": [
    "res_lr_chi2 = sm.Logit(df_ctr['Action'], df_top_chi2).fit(method='bfgs', maxiter=100)"
   ]
  },
  {
   "cell_type": "markdown",
   "metadata": {},
   "source": [
    "From what it seems like statsmodels logitic regression is a bit sensitive to a highly sparse input. In our data, there are some columns containing all-zeros (e.g., Twitter, AOL, Weather, some BannerSizes with zero count in **Click**) which may cause problem when calculating Hessian matrix."
   ]
  },
  {
   "cell_type": "code",
   "execution_count": null,
   "metadata": {
    "collapsed": true
   },
   "outputs": [],
   "source": [
    "res_lr_chi2.summary()"
   ]
  },
  {
   "cell_type": "markdown",
   "metadata": {},
   "source": [
    "### Recursive Feature Elimination\n",
    "With the failure of LR multivariate analysis, I opt to use recursive feature elimination (RFE). The goal of RFE is to select features by recursively considering smaller and smaller sets of features. First, the estimator is trained on the initial set of features and the importance of each feature is obtained either through the coefficients of a linear model. Then, the least important features are pruned from current set of features. That procedure is recursively repeated on the pruned set until the desired number of features to select is eventually reached (http://scikit-learn.org/stable/modules/generated/sklearn.feature_selection.RFE.html)."
   ]
  },
  {
   "cell_type": "code",
   "execution_count": 57,
   "metadata": {
    "collapsed": false,
    "scrolled": true
   },
   "outputs": [],
   "source": [
    "rfe = RFE(estimator=LR(class_weight='balanced'), n_features_to_select=1, step=1)\n",
    "selector_rfe = rfe.fit(df_data, df_ctr['Action'])"
   ]
  },
  {
   "cell_type": "code",
   "execution_count": 64,
   "metadata": {
    "collapsed": false
   },
   "outputs": [
    {
     "data": {
      "text/plain": [
       "array([54, 41, 26,  6, 14, 48, 29, 12, 15, 11, 17, 27, 13,  1, 16,  3, 18,\n",
       "        2, 19, 47,  7, 21,  9, 34,  8, 33,  5,  4, 35, 32, 10, 46, 36, 31,\n",
       "       49, 52, 30, 40, 45, 50, 53, 44, 39, 25, 43, 51, 28, 38, 24, 23, 20,\n",
       "       22, 42, 37])"
      ]
     },
     "execution_count": 64,
     "metadata": {},
     "output_type": "execute_result"
    }
   ],
   "source": [
    "selector_rfe.ranking_"
   ]
  },
  {
   "cell_type": "code",
   "execution_count": 92,
   "metadata": {
    "collapsed": false,
    "scrolled": true
   },
   "outputs": [
    {
     "data": {
      "text/plain": [
       "[(1, 'Website_Twitter'),\n",
       " (2, 'Website_Youtube'),\n",
       " (3, 'Website_Weather'),\n",
       " (4, 'BannerSize_320x480'),\n",
       " (5, 'BannerSize_320x100'),\n",
       " (6, 'Website_AOL'),\n",
       " (7, 'BannerSize_1536x2048'),\n",
       " (8, 'BannerSize_300x50'),\n",
       " (9, 'BannerSize_1x1'),\n",
       " (10, 'BannerSize_750x125'),\n",
       " (11, 'Website_Kijiji'),\n",
       " (12, 'Website_Expedia'),\n",
       " (13, 'Website_TubeMogul'),\n",
       " (14, 'Website_Amazon'),\n",
       " (15, 'Website_Facebook'),\n",
       " (16, 'Website_Wayfair'),\n",
       " (17, 'Website_Other'),\n",
       " (18, 'Website_Yahoo'),\n",
       " (19, 'Website_instagram.com'),\n",
       " (20, 'Month_9'),\n",
       " (21, 'BannerSize_160x600'),\n",
       " (22, 'Month_10'),\n",
       " (23, 'Month_8'),\n",
       " (24, 'Month_7'),\n",
       " (25, 'DayPeriod_Morning'),\n",
       " (26, 'Weekend'),\n",
       " (27, 'Website_Sympatico'),\n",
       " (28, 'DayPeriod_Night'),\n",
       " (29, 'Website_Craigslist.ca'),\n",
       " (30, 'Brand_Disney'),\n",
       " (31, 'Brand_Banana Republic'),\n",
       " (32, 'BannerSize_728x90'),\n",
       " (33, 'BannerSize_300x600'),\n",
       " (34, 'BannerSize_300x250'),\n",
       " (35, 'BannerSize_320x50'),\n",
       " (36, 'BannerSize_Other'),\n",
       " (37, 'Month_12'),\n",
       " (38, 'Month_1'),\n",
       " (39, 'Brand_gymboree'),\n",
       " (40, 'Brand_Gap'),\n",
       " (41, 'Year'),\n",
       " (42, 'Month_11'),\n",
       " (43, 'DayPeriod_Afternoon'),\n",
       " (44, 'Brand_Zara'),\n",
       " (45, 'Brand_JoeFresh'),\n",
       " (46, 'BannerSize_768x1024'),\n",
       " (47, 'BannerSize_1200x627'),\n",
       " (48, 'Website_Atedra'),\n",
       " (49, 'Brand_Burberry'),\n",
       " (50, 'Brand_Old Navy'),\n",
       " (51, 'DayPeriod_Evening'),\n",
       " (52, \"Brand_Carter's\"),\n",
       " (53, \"Brand_The Children's Place\"),\n",
       " (54, 'InteractionTime')]"
      ]
     },
     "execution_count": 92,
     "metadata": {},
     "output_type": "execute_result"
    }
   ],
   "source": [
    "rfe_ranked_feats = sorted(zip(selector_rfe.ranking_, columns))\n",
    "rfe_ranked_feats"
   ]
  },
  {
   "cell_type": "code",
   "execution_count": 48,
   "metadata": {
    "collapsed": false
   },
   "outputs": [],
   "source": [
    "# This is just reminder of the Ranked RFE features so I don't have to re-run it again\n",
    "rfe_ranked_feats = [(1, 'Website_Twitter'),\n",
    " (2, 'Website_Youtube'),\n",
    " (3, 'Website_Weather'),\n",
    " (4, 'BannerSize_320x480'),\n",
    " (5, 'BannerSize_320x100'),\n",
    " (6, 'Website_AOL'),\n",
    " (7, 'BannerSize_1536x2048'),\n",
    " (8, 'BannerSize_300x50'),\n",
    " (9, 'BannerSize_1x1'),\n",
    " (10, 'BannerSize_750x125'),\n",
    " (11, 'Website_Kijiji'),\n",
    " (12, 'Website_Expedia'),\n",
    " (13, 'Website_TubeMogul'),\n",
    " (14, 'Website_Amazon'),\n",
    " (15, 'Website_Facebook'),\n",
    " (16, 'Website_Wayfair'),\n",
    " (17, 'Website_Other'),\n",
    " (18, 'Website_Yahoo'),\n",
    " (19, 'Website_instagram.com'),\n",
    " (20, 'Month_9'),\n",
    " (21, 'BannerSize_160x600'),\n",
    " (22, 'Month_10'),\n",
    " (23, 'Month_8'),\n",
    " (24, 'Month_7'),\n",
    " (25, 'DayPeriod_Morning'),\n",
    " (26, 'Weekend'),\n",
    " (27, 'Website_Sympatico'),\n",
    " (28, 'DayPeriod_Night'),\n",
    " (29, 'Website_Craigslist.ca'),\n",
    " (30, 'Brand_Disney'),\n",
    " (31, 'Brand_Banana Republic'),\n",
    " (32, 'BannerSize_728x90'),\n",
    " (33, 'BannerSize_300x600'),\n",
    " (34, 'BannerSize_300x250'),\n",
    " (35, 'BannerSize_320x50'),\n",
    " (36, 'BannerSize_Other'),\n",
    " (37, 'Month_12'),\n",
    " (38, 'Month_1'),\n",
    " (39, 'Brand_gymboree'),\n",
    " (40, 'Brand_Gap'),\n",
    " (41, 'Year'),\n",
    " (42, 'Month_11'),\n",
    " (43, 'DayPeriod_Afternoon'),\n",
    " (44, 'Brand_Zara'),\n",
    " (45, 'Brand_JoeFresh'),\n",
    " (46, 'BannerSize_768x1024'),\n",
    " (47, 'BannerSize_1200x627'),\n",
    " (48, 'Website_Atedra'),\n",
    " (49, 'Brand_Burberry'),\n",
    " (50, 'Brand_Old Navy'),\n",
    " (51, 'DayPeriod_Evening'),\n",
    " (52, \"Brand_Carter's\"),\n",
    " (53, \"Brand_The Children's Place\"),\n",
    " (54, 'InteractionTime')]"
   ]
  },
  {
   "cell_type": "code",
   "execution_count": 49,
   "metadata": {
    "collapsed": true
   },
   "outputs": [],
   "source": [
    "rfe_feats = [col for i, col in rfe_ranked_feats]"
   ]
  },
  {
   "cell_type": "markdown",
   "metadata": {},
   "source": [
    "Now that we have ranked all of our features, we have to choose the top number of features that to be the most representive. One way we can do is to test out our model using various portions of features. As we have only 54 features, this can be similarly implemented as RFE, that we recursively remove the least ranked feature at a time down to one feature to find the best performing model."
   ]
  },
  {
   "cell_type": "code",
   "execution_count": 53,
   "metadata": {
    "collapsed": true
   },
   "outputs": [],
   "source": [
    "def select_top_features(estimator, X, y):\n",
    "    \"\"\"\n",
    "    Try to find the top RFE ranked features by recursively eliminating\n",
    "    the lowest ranked features in every iteration. Scoring method: ROC-AUC.\n",
    "    \n",
    "    Args:\n",
    "        estimator (object): Classifier\n",
    "        X (NumPy array): Inputs\n",
    "        y (NumPy array): Targets\n",
    "    \n",
    "    Returns:\n",
    "        top_feats (list): Top feature names\n",
    "        scores (list): AUC Scores\n",
    "\n",
    "    \"\"\"\n",
    "    # Get all feature names\n",
    "    columns = X.columns.tolist()\n",
    "    feats = columns[:]\n",
    "    # Split into train/dev sets\n",
    "    X_train, X_dev, y_train, y_dev = train_test_split(X, y,\n",
    "                                                      test_size=0.1,\n",
    "                                                      random_state=13)\n",
    "    scores = []\n",
    "    while len(feats) > 1:\n",
    "        print(\"Train using {} features.\".format(len(feats)))\n",
    "        X_feats = X_train[feats]\n",
    "        estimator.fit(X_feats, y_train)\n",
    "        # y_pred = estimator.predict(X_test)\n",
    "        y_pred_prob = estimator.predict_proba(X_dev[feats])\n",
    "        \n",
    "        scores.append(roc_auc_score(y_dev, y_pred_prob[:, 1]))\n",
    "        feats.pop()\n",
    "    \n",
    "    # Find the best cutoff point\n",
    "    best_cutoff = np.argsort(scores)[-1]\n",
    "    # Top k is at the cutoff, e.g., if 54 in total and cutoff is at 2,\n",
    "    # then the top features are the first 52 out of 54\n",
    "    topk = len(feats) - best_cutoff\n",
    "    top_feats = columns[:topk]\n",
    "    \n",
    "    return top_feats, scores"
   ]
  },
  {
   "cell_type": "code",
   "execution_count": 103,
   "metadata": {
    "collapsed": false
   },
   "outputs": [
    {
     "name": "stdout",
     "output_type": "stream",
     "text": [
      "Train using 54 features.\n",
      "Train using 53 features.\n",
      "Train using 52 features.\n",
      "Train using 51 features.\n",
      "Train using 50 features.\n",
      "Train using 49 features.\n",
      "Train using 48 features.\n",
      "Train using 47 features.\n",
      "Train using 46 features.\n",
      "Train using 45 features.\n",
      "Train using 44 features.\n",
      "Train using 43 features.\n",
      "Train using 42 features.\n",
      "Train using 41 features.\n",
      "Train using 40 features.\n",
      "Train using 39 features.\n",
      "Train using 38 features.\n",
      "Train using 37 features.\n",
      "Train using 36 features.\n",
      "Train using 35 features.\n",
      "Train using 34 features.\n",
      "Train using 33 features.\n",
      "Train using 32 features.\n",
      "Train using 31 features.\n",
      "Train using 30 features.\n",
      "Train using 29 features.\n",
      "Train using 28 features.\n",
      "Train using 27 features.\n",
      "Train using 26 features.\n",
      "Train using 25 features.\n",
      "Train using 24 features.\n",
      "Train using 23 features.\n",
      "Train using 22 features.\n",
      "Train using 21 features.\n",
      "Train using 20 features.\n",
      "Train using 19 features.\n",
      "Train using 18 features.\n",
      "Train using 17 features.\n",
      "Train using 16 features.\n",
      "Train using 15 features.\n",
      "Train using 14 features.\n",
      "Train using 13 features.\n",
      "Train using 12 features.\n",
      "Train using 11 features.\n",
      "Train using 10 features.\n",
      "Train using 9 features.\n",
      "Train using 8 features.\n",
      "Train using 7 features.\n",
      "Train using 6 features.\n",
      "Train using 5 features.\n",
      "Train using 4 features.\n",
      "Train using 3 features.\n",
      "Train using 2 features.\n"
     ]
    }
   ],
   "source": [
    "top_rfe_feats, auc_scores = select_top_features(LR(class_weight='balanced'),\n",
    "                                                df_data[rfe_feats].as_matrix(),\n",
    "                                                df_ctr['Action'].as_matrix())"
   ]
  },
  {
   "cell_type": "code",
   "execution_count": 109,
   "metadata": {
    "collapsed": false,
    "scrolled": true
   },
   "outputs": [
    {
     "data": {
      "image/png": "[encoded data removed]",
      "text/plain": [
       "<matplotlib.figure.Figure at 0x7faea83f5da0>"
      ]
     },
     "metadata": {},
     "output_type": "display_data"
    }
   ],
   "source": [
    "plt.plot(auc_scores)\n",
    "plt.xlabel(\"Feature Cutoff\")\n",
    "plt.ylabel(\"ROC AUC\")\n",
    "plt.show()"
   ]
  },
  {
   "cell_type": "markdown",
   "metadata": {},
   "source": [
    "As observed, the cutoff point is at round 20-ish where the model performs the best. To be exact, the best cutoff is 16 which means the first 54-16=38 features performs the best, and the following are names of the top RFE features."
   ]
  },
  {
   "cell_type": "code",
   "execution_count": 110,
   "metadata": {
    "collapsed": false,
    "scrolled": true
   },
   "outputs": [
    {
     "data": {
      "text/plain": [
       "['Website_Twitter',\n",
       " 'Website_Youtube',\n",
       " 'Website_Weather',\n",
       " 'BannerSize_320x480',\n",
       " 'BannerSize_320x100',\n",
       " 'Website_AOL',\n",
       " 'BannerSize_1536x2048',\n",
       " 'BannerSize_300x50',\n",
       " 'BannerSize_1x1',\n",
       " 'BannerSize_750x125',\n",
       " 'Website_Kijiji',\n",
       " 'Website_Expedia',\n",
       " 'Website_TubeMogul',\n",
       " 'Website_Amazon',\n",
       " 'Website_Facebook',\n",
       " 'Website_Wayfair',\n",
       " 'Website_Other',\n",
       " 'Website_Yahoo',\n",
       " 'Website_instagram.com',\n",
       " 'Month_9',\n",
       " 'BannerSize_160x600',\n",
       " 'Month_10',\n",
       " 'Month_8',\n",
       " 'Month_7',\n",
       " 'DayPeriod_Morning',\n",
       " 'Weekend',\n",
       " 'Website_Sympatico',\n",
       " 'DayPeriod_Night',\n",
       " 'Website_Craigslist.ca',\n",
       " 'Brand_Disney',\n",
       " 'Brand_Banana Republic',\n",
       " 'BannerSize_728x90',\n",
       " 'BannerSize_300x600',\n",
       " 'BannerSize_300x250',\n",
       " 'BannerSize_320x50',\n",
       " 'BannerSize_Other',\n",
       " 'Month_12',\n",
       " 'Month_1',\n",
       " 'Brand_gymboree']"
      ]
     },
     "execution_count": 110,
     "metadata": {},
     "output_type": "execute_result"
    }
   ],
   "source": [
    "top_rfe_feats"
   ]
  },
  {
   "cell_type": "code",
   "execution_count": 50,
   "metadata": {
    "collapsed": true
   },
   "outputs": [],
   "source": [
    "# This is just reminder of the top RFE features so I don't have to re-run it again\n",
    "top_rfe_feats = ['Website_Twitter',\n",
    " 'Website_Youtube',\n",
    " 'Website_Weather',\n",
    " 'BannerSize_320x480',\n",
    " 'BannerSize_320x100',\n",
    " 'Website_AOL',\n",
    " 'BannerSize_1536x2048',\n",
    " 'BannerSize_300x50',\n",
    " 'BannerSize_1x1',\n",
    " 'BannerSize_750x125',\n",
    " 'Website_Kijiji',\n",
    " 'Website_Expedia',\n",
    " 'Website_TubeMogul',\n",
    " 'Website_Amazon',\n",
    " 'Website_Facebook',\n",
    " 'Website_Wayfair',\n",
    " 'Website_Other',\n",
    " 'Website_Yahoo',\n",
    " 'Website_instagram.com',\n",
    " 'Month_9',\n",
    " 'BannerSize_160x600',\n",
    " 'Month_10',\n",
    " 'Month_8',\n",
    " 'Month_7',\n",
    " 'DayPeriod_Morning',\n",
    " 'Weekend',\n",
    " 'Website_Sympatico',\n",
    " 'DayPeriod_Night',\n",
    " 'Website_Craigslist.ca',\n",
    " 'Brand_Disney',\n",
    " 'Brand_Banana Republic',\n",
    " 'BannerSize_728x90',\n",
    " 'BannerSize_300x600',\n",
    " 'BannerSize_300x250',\n",
    " 'BannerSize_320x50',\n",
    " 'BannerSize_Other',\n",
    " 'Month_12',\n",
    " 'Month_1',\n",
    " 'Brand_gymboree']"
   ]
  },
  {
   "cell_type": "markdown",
   "metadata": {
    "collapsed": true
   },
   "source": [
    "## Baseline Model Selection"
   ]
  },
  {
   "cell_type": "code",
   "execution_count": 51,
   "metadata": {
    "collapsed": false,
    "scrolled": true
   },
   "outputs": [
    {
     "data": {
      "text/html": [
       "<div>\n",
       "<style scoped>\n",
       "    .dataframe tbody tr th:only-of-type {\n",
       "        vertical-align: middle;\n",
       "    }\n",
       "\n",
       "    .dataframe tbody tr th {\n",
       "        vertical-align: top;\n",
       "    }\n",
       "\n",
       "    .dataframe thead th {\n",
       "        text-align: right;\n",
       "    }\n",
       "</style>\n",
       "<table border=\"1\" class=\"dataframe\">\n",
       "  <thead>\n",
       "    <tr style=\"text-align: right;\">\n",
       "      <th></th>\n",
       "      <th>Website_Twitter</th>\n",
       "      <th>Website_Youtube</th>\n",
       "      <th>Website_Weather</th>\n",
       "      <th>BannerSize_320x480</th>\n",
       "      <th>BannerSize_320x100</th>\n",
       "      <th>Website_AOL</th>\n",
       "      <th>BannerSize_1536x2048</th>\n",
       "      <th>BannerSize_300x50</th>\n",
       "      <th>BannerSize_1x1</th>\n",
       "      <th>BannerSize_750x125</th>\n",
       "      <th>...</th>\n",
       "      <th>Brand_Disney</th>\n",
       "      <th>Brand_Banana Republic</th>\n",
       "      <th>BannerSize_728x90</th>\n",
       "      <th>BannerSize_300x600</th>\n",
       "      <th>BannerSize_300x250</th>\n",
       "      <th>BannerSize_320x50</th>\n",
       "      <th>BannerSize_Other</th>\n",
       "      <th>Month_12</th>\n",
       "      <th>Month_1</th>\n",
       "      <th>Brand_gymboree</th>\n",
       "    </tr>\n",
       "  </thead>\n",
       "  <tbody>\n",
       "    <tr>\n",
       "      <th>0</th>\n",
       "      <td>0</td>\n",
       "      <td>0</td>\n",
       "      <td>0</td>\n",
       "      <td>0</td>\n",
       "      <td>0</td>\n",
       "      <td>0</td>\n",
       "      <td>0</td>\n",
       "      <td>0</td>\n",
       "      <td>0</td>\n",
       "      <td>0</td>\n",
       "      <td>...</td>\n",
       "      <td>0</td>\n",
       "      <td>0</td>\n",
       "      <td>0</td>\n",
       "      <td>1</td>\n",
       "      <td>0</td>\n",
       "      <td>0</td>\n",
       "      <td>0</td>\n",
       "      <td>0</td>\n",
       "      <td>0</td>\n",
       "      <td>0</td>\n",
       "    </tr>\n",
       "    <tr>\n",
       "      <th>1</th>\n",
       "      <td>0</td>\n",
       "      <td>0</td>\n",
       "      <td>0</td>\n",
       "      <td>0</td>\n",
       "      <td>0</td>\n",
       "      <td>0</td>\n",
       "      <td>0</td>\n",
       "      <td>0</td>\n",
       "      <td>0</td>\n",
       "      <td>0</td>\n",
       "      <td>...</td>\n",
       "      <td>0</td>\n",
       "      <td>0</td>\n",
       "      <td>0</td>\n",
       "      <td>0</td>\n",
       "      <td>1</td>\n",
       "      <td>0</td>\n",
       "      <td>0</td>\n",
       "      <td>0</td>\n",
       "      <td>0</td>\n",
       "      <td>0</td>\n",
       "    </tr>\n",
       "    <tr>\n",
       "      <th>2</th>\n",
       "      <td>0</td>\n",
       "      <td>0</td>\n",
       "      <td>0</td>\n",
       "      <td>0</td>\n",
       "      <td>0</td>\n",
       "      <td>0</td>\n",
       "      <td>0</td>\n",
       "      <td>0</td>\n",
       "      <td>0</td>\n",
       "      <td>0</td>\n",
       "      <td>...</td>\n",
       "      <td>1</td>\n",
       "      <td>0</td>\n",
       "      <td>1</td>\n",
       "      <td>0</td>\n",
       "      <td>0</td>\n",
       "      <td>0</td>\n",
       "      <td>0</td>\n",
       "      <td>1</td>\n",
       "      <td>0</td>\n",
       "      <td>0</td>\n",
       "    </tr>\n",
       "    <tr>\n",
       "      <th>3</th>\n",
       "      <td>0</td>\n",
       "      <td>0</td>\n",
       "      <td>0</td>\n",
       "      <td>0</td>\n",
       "      <td>0</td>\n",
       "      <td>0</td>\n",
       "      <td>0</td>\n",
       "      <td>0</td>\n",
       "      <td>0</td>\n",
       "      <td>0</td>\n",
       "      <td>...</td>\n",
       "      <td>0</td>\n",
       "      <td>0</td>\n",
       "      <td>0</td>\n",
       "      <td>0</td>\n",
       "      <td>0</td>\n",
       "      <td>1</td>\n",
       "      <td>0</td>\n",
       "      <td>0</td>\n",
       "      <td>1</td>\n",
       "      <td>0</td>\n",
       "    </tr>\n",
       "    <tr>\n",
       "      <th>4</th>\n",
       "      <td>0</td>\n",
       "      <td>0</td>\n",
       "      <td>0</td>\n",
       "      <td>0</td>\n",
       "      <td>0</td>\n",
       "      <td>0</td>\n",
       "      <td>0</td>\n",
       "      <td>0</td>\n",
       "      <td>0</td>\n",
       "      <td>0</td>\n",
       "      <td>...</td>\n",
       "      <td>0</td>\n",
       "      <td>0</td>\n",
       "      <td>0</td>\n",
       "      <td>0</td>\n",
       "      <td>1</td>\n",
       "      <td>0</td>\n",
       "      <td>0</td>\n",
       "      <td>0</td>\n",
       "      <td>0</td>\n",
       "      <td>0</td>\n",
       "    </tr>\n",
       "  </tbody>\n",
       "</table>\n",
       "<p>5 rows × 39 columns</p>\n",
       "</div>"
      ],
      "text/plain": [
       "   Website_Twitter  Website_Youtube  Website_Weather  BannerSize_320x480  \\\n",
       "0                0                0                0                   0   \n",
       "1                0                0                0                   0   \n",
       "2                0                0                0                   0   \n",
       "3                0                0                0                   0   \n",
       "4                0                0                0                   0   \n",
       "\n",
       "   BannerSize_320x100  Website_AOL  BannerSize_1536x2048  BannerSize_300x50  \\\n",
       "0                   0            0                     0                  0   \n",
       "1                   0            0                     0                  0   \n",
       "2                   0            0                     0                  0   \n",
       "3                   0            0                     0                  0   \n",
       "4                   0            0                     0                  0   \n",
       "\n",
       "   BannerSize_1x1  BannerSize_750x125       ...        Brand_Disney  \\\n",
       "0               0                   0       ...                   0   \n",
       "1               0                   0       ...                   0   \n",
       "2               0                   0       ...                   1   \n",
       "3               0                   0       ...                   0   \n",
       "4               0                   0       ...                   0   \n",
       "\n",
       "   Brand_Banana Republic  BannerSize_728x90  BannerSize_300x600  \\\n",
       "0                      0                  0                   1   \n",
       "1                      0                  0                   0   \n",
       "2                      0                  1                   0   \n",
       "3                      0                  0                   0   \n",
       "4                      0                  0                   0   \n",
       "\n",
       "   BannerSize_300x250  BannerSize_320x50  BannerSize_Other  Month_12  Month_1  \\\n",
       "0                   0                  0                 0         0        0   \n",
       "1                   1                  0                 0         0        0   \n",
       "2                   0                  0                 0         1        0   \n",
       "3                   0                  1                 0         0        1   \n",
       "4                   1                  0                 0         0        0   \n",
       "\n",
       "   Brand_gymboree  \n",
       "0               0  \n",
       "1               0  \n",
       "2               0  \n",
       "3               0  \n",
       "4               0  \n",
       "\n",
       "[5 rows x 39 columns]"
      ]
     },
     "execution_count": 51,
     "metadata": {},
     "output_type": "execute_result"
    }
   ],
   "source": [
    "df_data_top = df_data[top_rfe_feats]\n",
    "df_data_top.head()"
   ]
  },
  {
   "cell_type": "code",
   "execution_count": 52,
   "metadata": {
    "collapsed": true
   },
   "outputs": [],
   "source": [
    "def plot_confusion_matrix(cm, classes, normalize=False, title='Confusion Matrix', cmap=plt.cm.Blues):\n",
    "    \"\"\"\n",
    "    This function prints and plots the confusion matrix.\n",
    "    Normalization can be applied by setting `normalize=True`.\n",
    "    \"\"\"\n",
    "    if normalize:\n",
    "        cm = cm.astype('float') / cm.sum(axis=1)[:, np.newaxis]\n",
    "        print(\"Normalized confusion matrix\")\n",
    "    else:\n",
    "        print('Confusion matrix, without normalization')\n",
    "\n",
    "    plt.imshow(cm, interpolation='nearest', cmap=cmap)\n",
    "    plt.title(title)\n",
    "    plt.colorbar()\n",
    "    tick_marks = np.arange(len(classes))\n",
    "    plt.xticks(tick_marks, classes, rotation=45)\n",
    "    plt.yticks(tick_marks, classes)\n",
    "\n",
    "    fmt = '.2f' if normalize else 'd'\n",
    "    thresh = cm.max() / 2.\n",
    "    for i, j in itertools.product(range(cm.shape[0]), range(cm.shape[1])):\n",
    "        plt.text(j, i, format(cm[i, j], fmt),\n",
    "                 horizontalalignment=\"center\",\n",
    "                 color=\"white\" if cm[i, j] > thresh else \"black\")\n",
    "\n",
    "    plt.tight_layout()\n",
    "    plt.ylabel('True label')\n",
    "    plt.xlabel('Predicted label')"
   ]
  },
  {
   "cell_type": "code",
   "execution_count": 53,
   "metadata": {
    "collapsed": true
   },
   "outputs": [],
   "source": [
    "X_data, y_data = df_data_top.as_matrix(), df_ctr['Action'].as_matrix()"
   ]
  },
  {
   "cell_type": "code",
   "execution_count": 87,
   "metadata": {
    "collapsed": true
   },
   "outputs": [],
   "source": [
    "X_train, X_test, y_train, y_test = train_test_split(X_data, y_data,\n",
    "                                                    test_size=0.1,\n",
    "                                                    random_state=13)"
   ]
  },
  {
   "cell_type": "code",
   "execution_count": 88,
   "metadata": {
    "collapsed": false,
    "scrolled": true
   },
   "outputs": [
    {
     "name": "stdout",
     "output_type": "stream",
     "text": [
      "Class ratio (View/Click): 899789/211 in train data.\n",
      "Class ratio (View/Click): 99967/33 in test data.\n"
     ]
    }
   ],
   "source": [
    "print(\"Class ratio (View/Click): {}/{} in train data.\".format(len(y_train)-y_train.sum(), y_train.sum()))\n",
    "print(\"Class ratio (View/Click): {}/{} in test data.\".format(len(y_test)-y_test.sum(), y_test.sum()))"
   ]
  },
  {
   "cell_type": "markdown",
   "metadata": {},
   "source": [
    "### Sneak Peek\n",
    "Let's just take a look at how LR performs on the test set to decide if it'a valid choice to proceed"
   ]
  },
  {
   "cell_type": "code",
   "execution_count": 133,
   "metadata": {
    "collapsed": false
   },
   "outputs": [
    {
     "data": {
      "text/plain": [
       "LogisticRegression(C=1.0, class_weight='balanced', dual=False,\n",
       "          fit_intercept=True, intercept_scaling=1, max_iter=100,\n",
       "          multi_class='ovr', n_jobs=1, penalty='l2', random_state=None,\n",
       "          solver='liblinear', tol=0.0001, verbose=0, warm_start=False)"
      ]
     },
     "execution_count": 133,
     "metadata": {},
     "output_type": "execute_result"
    }
   ],
   "source": [
    "estimator = LR(class_weight='balanced')\n",
    "estimator.fit(X_train, y_train)"
   ]
  },
  {
   "cell_type": "code",
   "execution_count": 134,
   "metadata": {
    "collapsed": true
   },
   "outputs": [],
   "source": [
    "y_pred = estimator.predict(X_test)\n",
    "y_pred_prob = estimator.predict_proba(X_test)"
   ]
  },
  {
   "cell_type": "code",
   "execution_count": 135,
   "metadata": {
    "collapsed": false
   },
   "outputs": [
    {
     "name": "stdout",
     "output_type": "stream",
     "text": [
      "Confusion matrix, without normalization\n"
     ]
    },
    {
     "data": {
      "image/png": "[encoded data removed]",
      "text/plain": [
       "<matplotlib.figure.Figure at 0x7fae7d9092b0>"
      ]
     },
     "metadata": {},
     "output_type": "display_data"
    }
   ],
   "source": [
    "cm_lr = confusion_matrix(y_test, y_pred)\n",
    "plot_confusion_matrix(cm_lr, classes=['View', 'Click'],\n",
    "                      title='Confusion Matrix using LR')\n",
    "plt.show()"
   ]
  },
  {
   "cell_type": "code",
   "execution_count": 136,
   "metadata": {
    "collapsed": false
   },
   "outputs": [
    {
     "data": {
      "text/plain": [
       "0.729551661139085"
      ]
     },
     "execution_count": 136,
     "metadata": {},
     "output_type": "execute_result"
    }
   ],
   "source": [
    "roc_auc_score(y_test, y_pred_prob[:, 1])"
   ]
  },
  {
   "cell_type": "markdown",
   "metadata": {},
   "source": [
    "What it seems ROC-AUC of LR on the test is just OK (about 0.73), we correctly predict 19 out of 33 clicks in the test set. From the confusion matrix, we can see there are a lot of false positive cases where the classifier miss-label the **View**s to **Click**s. In some sense, it is fine because if an Ad that will not be clicked but still being published will not hurt the ad publisher, but on the other side if an Ad that will be clicked but not published that will cause publisher to lose business opportunity. Therefore, we are paying more attention to the positive-class **Click**."
   ]
  },
  {
   "cell_type": "markdown",
   "metadata": {},
   "source": [
    "### Baseline Models\n",
    "In this section, we are going to select the best classifer from a list of baseline candidates. Candidate list: Logistic Regression, Random Forest, Gradient Boosting and Balanced Bagging. Thanks to the imblearn Team, to deal with imbalance problem in our dataset, we can try out the Balanced Bagging classifier, a extended version of sklearn' bagging classifier that includes an additional step to balance the training step at fit time (http://contrib.scikit-learn.org/imbalanced-learn/stable/generated/imblearn.ensemble.BalancedBaggingClassifier.html).\n",
    "\n",
    "To properly select the model, we will use 10-fold cross-validation. On each training iteration, we train all baselines with the 9-folds and record an AUC score on the remaining one fold (dev set). Hence, we will have overall baselines' performances on all 10 folds."
   ]
  },
  {
   "cell_type": "code",
   "execution_count": 137,
   "metadata": {
    "collapsed": true
   },
   "outputs": [],
   "source": [
    "baselines = [('Logistic Regression', LR(class_weight='balanced')),\n",
    "             ('Random Forest', RFC(max_depth=5, class_weight='balanced')),\n",
    "             ('Gradient Boosting', GBC()),\n",
    "             ('Balanced Bagging', BBC())]"
   ]
  },
  {
   "cell_type": "code",
   "execution_count": 58,
   "metadata": {
    "collapsed": true
   },
   "outputs": [],
   "source": [
    "def cv_select_model(classifiers, X, y, n_splits=5, shuffle=True, oversample=False):\n",
    "    \"\"\"\n",
    "    Use cross-validation to select the best models based on ROC-AUC metric\n",
    "    \n",
    "    Args:\n",
    "        classifiers (list): A list of classifiers\n",
    "        X (NumPy array): Inputs\n",
    "        y (NumPy array): Targets\n",
    "        n_splits (int): Number of CV folds\n",
    "        shuffle (bool): Shuffle flag\n",
    "        oversample (bool): Oversample flag\n",
    "\n",
    "    Returns:\n",
    "        cv_auc_scores (list): CV AUC scores\n",
    "\n",
    "    \"\"\"\n",
    "    cv_auc_scores = []\n",
    "    cv = KFold(n_splits=n_splits, shuffle=shuffle)\n",
    "    smote = SMOTE(ratio=0.001, random_state=13) if oversample else None\n",
    "    \n",
    "    for fold, (train_index, dev_index) in enumerate(cv.split(X)):\n",
    "        print(\"Fold:\", fold + 1)\n",
    "        X_train, X_dev = X[train_index], X[dev_index]\n",
    "        y_train, y_dev = y[train_index], y[dev_index]\n",
    "        \n",
    "        if oversample:\n",
    "            X_train, y_train = smote.fit_sample(X_train, y_train)\n",
    "            # Round floats to categorical data\n",
    "            X_train = np.round(X_train) \n",
    "        \n",
    "        auc_scores = []\n",
    "        for name, clf in classifiers:\n",
    "            print(\"Training: \", name)\n",
    "            clf.fit(X_train, y_train)\n",
    "#             y_pred = clf.predict(X_dev)\n",
    "            y_pred_prob = clf.predict_proba(X_dev)\n",
    "            auc_scores.append(roc_auc_score(y_dev, y_pred_prob[:, 1]))\n",
    "        \n",
    "        cv_auc_scores.append(auc_scores)\n",
    "\n",
    "    return cv_auc_scores"
   ]
  },
  {
   "cell_type": "code",
   "execution_count": 59,
   "metadata": {
    "collapsed": false,
    "scrolled": true
   },
   "outputs": [
    {
     "name": "stdout",
     "output_type": "stream",
     "text": [
      "Fold: 1\n",
      "Training:  Logistic Regression\n",
      "Training:  Random Forest\n",
      "Training:  Gradient Boosting\n",
      "Training:  Balanced Bagging\n",
      "Fold: 2\n",
      "Training:  Logistic Regression\n",
      "Training:  Random Forest\n",
      "Training:  Gradient Boosting\n",
      "Training:  Balanced Bagging\n",
      "Fold: 3\n",
      "Training:  Logistic Regression\n",
      "Training:  Random Forest\n",
      "Training:  Gradient Boosting\n",
      "Training:  Balanced Bagging\n",
      "Fold: 4\n",
      "Training:  Logistic Regression\n",
      "Training:  Random Forest\n",
      "Training:  Gradient Boosting\n",
      "Training:  Balanced Bagging\n",
      "Fold: 5\n",
      "Training:  Logistic Regression\n",
      "Training:  Random Forest\n",
      "Training:  Gradient Boosting\n",
      "Training:  Balanced Bagging\n",
      "Fold: 6\n",
      "Training:  Logistic Regression\n",
      "Training:  Random Forest\n",
      "Training:  Gradient Boosting\n",
      "Training:  Balanced Bagging\n",
      "Fold: 7\n",
      "Training:  Logistic Regression\n",
      "Training:  Random Forest\n",
      "Training:  Gradient Boosting\n",
      "Training:  Balanced Bagging\n",
      "Fold: 8\n",
      "Training:  Logistic Regression\n",
      "Training:  Random Forest\n",
      "Training:  Gradient Boosting\n",
      "Training:  Balanced Bagging\n",
      "Fold: 9\n",
      "Training:  Logistic Regression\n",
      "Training:  Random Forest\n",
      "Training:  Gradient Boosting\n",
      "Training:  Balanced Bagging\n",
      "Fold: 10\n",
      "Training:  Logistic Regression\n",
      "Training:  Random Forest\n",
      "Training:  Gradient Boosting\n",
      "Training:  Balanced Bagging\n"
     ]
    }
   ],
   "source": [
    "cv_auc_scores = cv_select_model(baselines, X_data, y_data, n_splits=10)"
   ]
  },
  {
   "cell_type": "code",
   "execution_count": 60,
   "metadata": {
    "collapsed": false,
    "scrolled": true
   },
   "outputs": [
    {
     "data": {
      "text/plain": [
       "array([[0.71723419, 0.68934651, 0.70578406, 0.70268159],\n",
       "       [0.80849006, 0.78072898, 0.79229797, 0.79425046],\n",
       "       [0.68299097, 0.64633933, 0.70203255, 0.61918142],\n",
       "       [0.67979821, 0.71484413, 0.73779771, 0.71092765],\n",
       "       [0.76216576, 0.71337186, 0.77432735, 0.71339437],\n",
       "       [0.73114568, 0.73529898, 0.74965947, 0.69048019],\n",
       "       [0.66510613, 0.65511641, 0.65457991, 0.54527423],\n",
       "       [0.7830332 , 0.7139025 , 0.77795381, 0.73630182],\n",
       "       [0.72167046, 0.72094426, 0.73421973, 0.73865896],\n",
       "       [0.72057394, 0.68110453, 0.65071564, 0.6254444 ]])"
      ]
     },
     "execution_count": 60,
     "metadata": {},
     "output_type": "execute_result"
    }
   ],
   "source": [
    "cv_auc_scores = np.array(cv_auc_scores)\n",
    "cv_auc_scores"
   ]
  },
  {
   "cell_type": "markdown",
   "metadata": {},
   "source": [
    "Here each column represents a model's performance on all 10 folds."
   ]
  },
  {
   "cell_type": "code",
   "execution_count": 61,
   "metadata": {
    "collapsed": false
   },
   "outputs": [],
   "source": [
    "clf_dev_auc_mean = np.mean(cv_auc_scores, axis=0)\n",
    "clf_dev_auc_std = np.std(cv_auc_scores, axis=0)"
   ]
  },
  {
   "cell_type": "code",
   "execution_count": 62,
   "metadata": {
    "collapsed": false
   },
   "outputs": [
    {
     "name": "stdout",
     "output_type": "stream",
     "text": [
      "Logistic Regression ROC-AUC mean/std:\t0.7272/0.0438\n",
      "Random Forest ROC-AUC mean/std:\t0.7051/0.0373\n",
      "Gradient Boosting ROC-AUC mean/std:\t0.7279/0.0468\n",
      "Balanced Bagging ROC-AUC mean/std:\t0.6877/0.0683\n"
     ]
    }
   ],
   "source": [
    "for i, (m, s) in enumerate(zip(clf_dev_auc_mean, clf_dev_auc_std)):\n",
    "    print(\"{} ROC-AUC mean/std:\\t{:.4f}/{:.4f}\".format(baselines[i][0], m, s))"
   ]
  },
  {
   "cell_type": "markdown",
   "metadata": {
    "collapsed": true
   },
   "source": [
    "We can see on average GB (about tie with LR) outperforms the rest of candidates, but we still need to test its significance. Below, I choose GB's scores to test with the rest."
   ]
  },
  {
   "cell_type": "code",
   "execution_count": 66,
   "metadata": {
    "collapsed": false,
    "scrolled": true
   },
   "outputs": [
    {
     "data": {
      "text/plain": [
       "[0.9467438341839594, 0.037913330136461455, 0.00839009000300381]"
      ]
     },
     "execution_count": 66,
     "metadata": {},
     "output_type": "execute_result"
    }
   ],
   "source": [
    "top_auc_scores = cv_auc_scores[:, 2]\n",
    "indices = [0, 1, 3]\n",
    "pps = [stats.ttest_rel(top_auc_scores, cv_auc_scores[:, i])[1] for i in indices]\n",
    "pps"
   ]
  },
  {
   "cell_type": "markdown",
   "metadata": {},
   "source": [
    "As seen from the three p-values tested using t-test of GB to other three candidates (LR, RF, BB), the results are statisitcally significant to Random Forest and Balanced Bagging (p-values < 0.05). Here GB and LR both show highly competitive performance, drawing a tie, but I decide to choose LR, as its variance is smaller meaning it is likely to be more consistent and also for its speed and simplicity which makes hyperparameter optimization easier (GB has too many variables to tune)."
   ]
  },
  {
   "cell_type": "markdown",
   "metadata": {
    "collapsed": true
   },
   "source": [
    "## Hyperparameter Optimization and Model Validation (Nested Cross Validation)\n",
    "Now that we have choose LR, hyperparameter tunning is just a piece of cake. For LR, there is one parameter you can tune which is the inverse regularization strength *C*. Here we can just use a grid search to exhausitively find the best performing LR with regularization.\n",
    "\n",
    "Here, nested cross-validation (CV) is implemented to perform model validation in which hyperparameters needed to be optimized. The main purpose of nested CV is to prevent information \"leakage\" into the model and overfit the data. In nested CV we have 2 loops of CV, the inner loop is to find the best hyperparameter using grid search, then we use this model to evaluate the generalization error in the outer loop CV."
   ]
  },
  {
   "cell_type": "code",
   "execution_count": 72,
   "metadata": {
    "collapsed": false
   },
   "outputs": [],
   "source": [
    "lr_model = baselines[0][1]\n",
    "param_grid = {'C': np.logspace(-4, 4, 10)}"
   ]
  },
  {
   "cell_type": "code",
   "execution_count": 89,
   "metadata": {
    "collapsed": false
   },
   "outputs": [
    {
     "name": "stdout",
     "output_type": "stream",
     "text": [
      "Fitting 5 folds for each of 7 candidates, totalling 35 fits\n",
      "[CV] C=0.001 .........................................................\n",
      "[CV] ................ C=0.001, score=0.7252371933114549, total=   4.3s\n",
      "[CV] C=0.001 .........................................................\n"
     ]
    },
    {
     "name": "stderr",
     "output_type": "stream",
     "text": [
      "[Parallel(n_jobs=1)]: Done   1 out of   1 | elapsed:    5.1s remaining:    0.0s\n"
     ]
    },
    {
     "name": "stdout",
     "output_type": "stream",
     "text": [
      "[CV] ................ C=0.001, score=0.7857417224431054, total=   4.2s\n",
      "[CV] C=0.001 .........................................................\n"
     ]
    },
    {
     "name": "stderr",
     "output_type": "stream",
     "text": [
      "[Parallel(n_jobs=1)]: Done   2 out of   2 | elapsed:   10.1s remaining:    0.0s\n"
     ]
    },
    {
     "name": "stdout",
     "output_type": "stream",
     "text": [
      "[CV] .................. C=0.001, score=0.69197221120839, total=   4.1s\n",
      "[CV] C=0.001 .........................................................\n"
     ]
    },
    {
     "name": "stderr",
     "output_type": "stream",
     "text": [
      "[Parallel(n_jobs=1)]: Done   3 out of   3 | elapsed:   15.0s remaining:    0.0s\n"
     ]
    },
    {
     "name": "stdout",
     "output_type": "stream",
     "text": [
      "[CV] ................ C=0.001, score=0.7296385754382646, total=   4.1s\n",
      "[CV] C=0.001 .........................................................\n"
     ]
    },
    {
     "name": "stderr",
     "output_type": "stream",
     "text": [
      "[Parallel(n_jobs=1)]: Done   4 out of   4 | elapsed:   19.8s remaining:    0.0s\n"
     ]
    },
    {
     "name": "stdout",
     "output_type": "stream",
     "text": [
      "[CV] ................ C=0.001, score=0.6953335361090227, total=   4.0s\n",
      "[CV] C=0.01 ..........................................................\n",
      "[CV] ................. C=0.01, score=0.7274940459446789, total=   6.7s\n",
      "[CV] C=0.01 ..........................................................\n",
      "[CV] ................. C=0.01, score=0.7914216462592971, total=   6.5s\n",
      "[CV] C=0.01 ..........................................................\n",
      "[CV] ................. C=0.01, score=0.6929824326399977, total=   6.4s\n",
      "[CV] C=0.01 ..........................................................\n",
      "[CV] ................. C=0.01, score=0.7287755555809252, total=   6.7s\n",
      "[CV] C=0.01 ..........................................................\n",
      "[CV] ................. C=0.01, score=0.6859731004185442, total=   6.1s\n",
      "[CV] C=0.1 ...........................................................\n",
      "[CV] .................. C=0.1, score=0.7283624316299422, total=  10.0s\n",
      "[CV] C=0.1 ...........................................................\n",
      "[CV] .................. C=0.1, score=0.7929525462673546, total=   9.8s\n",
      "[CV] C=0.1 ...........................................................\n",
      "[CV] .................. C=0.1, score=0.6947398830509626, total=   9.8s\n",
      "[CV] C=0.1 ...........................................................\n",
      "[CV] .................. C=0.1, score=0.7278014983655627, total=  10.0s\n",
      "[CV] C=0.1 ...........................................................\n",
      "[CV] .................. C=0.1, score=0.6745589492848759, total=   8.7s\n",
      "[CV] C=1.0 ...........................................................\n",
      "[CV] .................. C=1.0, score=0.7280811376777622, total=  12.2s\n",
      "[CV] C=1.0 ...........................................................\n",
      "[CV] .................. C=1.0, score=0.7927142982170989, total=  11.0s\n",
      "[CV] C=1.0 ...........................................................\n",
      "[CV] .................. C=1.0, score=0.6942002796918032, total=  11.9s\n",
      "[CV] C=1.0 ...........................................................\n",
      "[CV] .................. C=1.0, score=0.7271522627972934, total=  12.4s\n",
      "[CV] C=1.0 ...........................................................\n",
      "[CV] .................. C=1.0, score=0.6712968701327718, total=  11.1s\n",
      "[CV] C=10.0 ..........................................................\n",
      "[CV] .................. C=10.0, score=0.728103391154868, total=  14.5s\n",
      "[CV] C=10.0 ..........................................................\n",
      "[CV] ................. C=10.0, score=0.7927627466179892, total=  14.6s\n",
      "[CV] C=10.0 ..........................................................\n",
      "[CV] .................. C=10.0, score=0.694277525352651, total=  14.7s\n",
      "[CV] C=10.0 ..........................................................\n",
      "[CV] ................. C=10.0, score=0.7271150238302208, total=  14.6s\n",
      "[CV] C=10.0 ..........................................................\n",
      "[CV] ................. C=10.0, score=0.6710435364297671, total=  14.0s\n",
      "[CV] C=100.0 .........................................................\n",
      "[CV] ................. C=100.0, score=0.728084388185654, total=  17.5s\n",
      "[CV] C=100.0 .........................................................\n",
      "[CV] ................ C=100.0, score=0.7927622256674418, total=  17.9s\n",
      "[CV] C=100.0 .........................................................\n",
      "[CV] ................ C=100.0, score=0.6942708277519994, total=  16.8s\n",
      "[CV] C=100.0 .........................................................\n",
      "[CV] ................ C=100.0, score=0.7271036075045489, total=  18.0s\n",
      "[CV] C=100.0 .........................................................\n",
      "[CV] ................ C=100.0, score=0.6710313046522614, total=  14.9s\n",
      "[CV] C=1000.0 ........................................................\n",
      "[CV] ................ C=1000.0, score=0.728084388185654, total=  19.6s\n",
      "[CV] C=1000.0 ........................................................\n",
      "[CV] ............... C=1000.0, score=0.7927622256674418, total=  19.8s\n",
      "[CV] C=1000.0 ........................................................\n",
      "[CV] ............... C=1000.0, score=0.6942612278577323, total=  19.5s\n",
      "[CV] C=1000.0 ........................................................\n",
      "[CV] ............... C=1000.0, score=0.7271036075045488, total=  19.7s\n",
      "[CV] C=1000.0 ........................................................\n",
      "[CV] ............... C=1000.0, score=0.6710336150991236, total=  16.6s\n"
     ]
    },
    {
     "name": "stderr",
     "output_type": "stream",
     "text": [
      "[Parallel(n_jobs=1)]: Done  35 out of  35 | elapsed:  7.3min finished\n"
     ]
    },
    {
     "name": "stdout",
     "output_type": "stream",
     "text": [
      "Fitting 5 folds for each of 7 candidates, totalling 35 fits\n",
      "[CV] C=0.001 .........................................................\n",
      "[CV] ................ C=0.001, score=0.7437934190961416, total=   4.0s\n",
      "[CV] C=0.001 .........................................................\n"
     ]
    },
    {
     "name": "stderr",
     "output_type": "stream",
     "text": [
      "[Parallel(n_jobs=1)]: Done   1 out of   1 | elapsed:    4.8s remaining:    0.0s\n"
     ]
    },
    {
     "name": "stdout",
     "output_type": "stream",
     "text": [
      "[CV] ................ C=0.001, score=0.7518520602411898, total=   4.0s\n",
      "[CV] C=0.001 .........................................................\n"
     ]
    },
    {
     "name": "stderr",
     "output_type": "stream",
     "text": [
      "[Parallel(n_jobs=1)]: Done   2 out of   2 | elapsed:    9.5s remaining:    0.0s\n"
     ]
    },
    {
     "name": "stdout",
     "output_type": "stream",
     "text": [
      "[CV] ................ C=0.001, score=0.6494112287005253, total=   3.9s\n",
      "[CV] C=0.001 .........................................................\n"
     ]
    },
    {
     "name": "stderr",
     "output_type": "stream",
     "text": [
      "[Parallel(n_jobs=1)]: Done   3 out of   3 | elapsed:   14.2s remaining:    0.0s\n"
     ]
    },
    {
     "name": "stdout",
     "output_type": "stream",
     "text": [
      "[CV] ................. C=0.001, score=0.790288477511061, total=   3.9s\n",
      "[CV] C=0.001 .........................................................\n"
     ]
    },
    {
     "name": "stderr",
     "output_type": "stream",
     "text": [
      "[Parallel(n_jobs=1)]: Done   4 out of   4 | elapsed:   18.9s remaining:    0.0s\n"
     ]
    },
    {
     "name": "stdout",
     "output_type": "stream",
     "text": [
      "[CV] ................ C=0.001, score=0.6832306400326105, total=   4.0s\n",
      "[CV] C=0.01 ..........................................................\n",
      "[CV] ................. C=0.01, score=0.7402224593772745, total=   7.1s\n",
      "[CV] C=0.01 ..........................................................\n",
      "[CV] ................. C=0.01, score=0.7417794404339189, total=   6.6s\n",
      "[CV] C=0.01 ..........................................................\n",
      "[CV] ................. C=0.01, score=0.6556497175571971, total=   6.7s\n",
      "[CV] C=0.01 ..........................................................\n",
      "[CV] .................. C=0.01, score=0.794464276039127, total=   6.5s\n",
      "[CV] C=0.01 ..........................................................\n",
      "[CV] ................. C=0.01, score=0.6833502204623916, total=   6.4s\n",
      "[CV] C=0.1 ...........................................................\n",
      "[CV] .................. C=0.1, score=0.7382461341989989, total=  10.8s\n",
      "[CV] C=0.1 ...........................................................\n",
      "[CV] .................. C=0.1, score=0.7276611112492296, total=   9.3s\n",
      "[CV] C=0.1 ...........................................................\n",
      "[CV] .................. C=0.1, score=0.6487575550991039, total=   9.8s\n",
      "[CV] C=0.1 ...........................................................\n",
      "[CV] .................. C=0.1, score=0.7941505031975655, total=  11.0s\n",
      "[CV] C=0.1 ...........................................................\n",
      "[CV] .................. C=0.1, score=0.6837323648921476, total=   9.5s\n",
      "[CV] C=1.0 ...........................................................\n",
      "[CV] .................. C=1.0, score=0.7385263740728998, total=  13.1s\n",
      "[CV] C=1.0 ...........................................................\n",
      "[CV] .................. C=1.0, score=0.7235885051084223, total=  11.2s\n",
      "[CV] C=1.0 ...........................................................\n",
      "[CV] .................. C=1.0, score=0.6458440036234895, total=  11.7s\n",
      "[CV] C=1.0 ...........................................................\n",
      "[CV] .................. C=1.0, score=0.7945412307635515, total=  12.5s\n",
      "[CV] C=1.0 ...........................................................\n",
      "[CV] .................. C=1.0, score=0.6833515028262498, total=  13.6s\n",
      "[CV] C=10.0 ..........................................................\n",
      "[CV] ................. C=10.0, score=0.7383197217248416, total=  14.3s\n",
      "[CV] C=10.0 ..........................................................\n",
      "[CV] .................. C=10.0, score=0.723452712800286, total=  13.8s\n",
      "[CV] C=10.0 ..........................................................\n",
      "[CV] ................. C=10.0, score=0.6457029613838545, total=  13.3s\n",
      "[CV] C=10.0 ..........................................................\n",
      "[CV] ................. C=10.0, score=0.7945241131749465, total=  15.9s\n",
      "[CV] C=10.0 ..........................................................\n",
      "[CV] ................. C=10.0, score=0.6832232664404256, total=  15.7s\n",
      "[CV] C=100.0 .........................................................\n",
      "[CV] ................ C=100.0, score=0.7383332961228126, total=  18.9s\n",
      "[CV] C=100.0 .........................................................\n",
      "[CV] ................ C=100.0, score=0.7234736486593563, total=  16.0s\n",
      "[CV] C=100.0 .........................................................\n",
      "[CV] ................ C=100.0, score=0.6456515762651984, total=  16.0s\n",
      "[CV] C=100.0 .........................................................\n",
      "[CV] ................ C=100.0, score=0.7945285786328435, total=  17.5s\n",
      "[CV] C=100.0 .........................................................\n",
      "[CV] .................. C=100.0, score=0.68317084981772, total=  17.5s\n",
      "[CV] C=1000.0 ........................................................\n",
      "[CV] ............... C=1000.0, score=0.7383424052582931, total=  19.1s\n",
      "[CV] C=1000.0 ........................................................\n",
      "[CV] ............... C=1000.0, score=0.7234726309439847, total=  16.8s\n",
      "[CV] C=1000.0 ........................................................\n",
      "[CV] ............... C=1000.0, score=0.6456515762651984, total=  17.3s\n",
      "[CV] C=1000.0 ........................................................\n",
      "[CV] ............... C=1000.0, score=0.7944709742259723, total=  20.3s\n",
      "[CV] C=1000.0 ........................................................\n",
      "[CV] ............... C=1000.0, score=0.6831706895222376, total=  20.7s\n"
     ]
    },
    {
     "name": "stderr",
     "output_type": "stream",
     "text": [
      "[Parallel(n_jobs=1)]: Done  35 out of  35 | elapsed:  7.4min finished\n"
     ]
    },
    {
     "name": "stdout",
     "output_type": "stream",
     "text": [
      "Fitting 5 folds for each of 7 candidates, totalling 35 fits\n",
      "[CV] C=0.001 .........................................................\n",
      "[CV] ................ C=0.001, score=0.7257603781706985, total=   4.1s\n",
      "[CV] C=0.001 .........................................................\n"
     ]
    },
    {
     "name": "stderr",
     "output_type": "stream",
     "text": [
      "[Parallel(n_jobs=1)]: Done   1 out of   1 | elapsed:    4.8s remaining:    0.0s\n"
     ]
    },
    {
     "name": "stdout",
     "output_type": "stream",
     "text": [
      "[CV] ................ C=0.001, score=0.7614480963990998, total=   4.1s\n",
      "[CV] C=0.001 .........................................................\n"
     ]
    },
    {
     "name": "stderr",
     "output_type": "stream",
     "text": [
      "[Parallel(n_jobs=1)]: Done   2 out of   2 | elapsed:    9.7s remaining:    0.0s\n"
     ]
    },
    {
     "name": "stdout",
     "output_type": "stream",
     "text": [
      "[CV] ................ C=0.001, score=0.7056612691466084, total=   4.0s\n",
      "[CV] C=0.001 .........................................................\n"
     ]
    },
    {
     "name": "stderr",
     "output_type": "stream",
     "text": [
      "[Parallel(n_jobs=1)]: Done   3 out of   3 | elapsed:   14.5s remaining:    0.0s\n"
     ]
    },
    {
     "name": "stdout",
     "output_type": "stream",
     "text": [
      "[CV] ................ C=0.001, score=0.7131777040513326, total=   4.2s\n",
      "[CV] C=0.001 .........................................................\n"
     ]
    },
    {
     "name": "stderr",
     "output_type": "stream",
     "text": [
      "[Parallel(n_jobs=1)]: Done   4 out of   4 | elapsed:   19.4s remaining:    0.0s\n"
     ]
    },
    {
     "name": "stdout",
     "output_type": "stream",
     "text": [
      "[CV] ................ C=0.001, score=0.7001883342030575, total=   3.9s\n",
      "[CV] C=0.01 ..........................................................\n",
      "[CV] ................. C=0.01, score=0.7284390575145023, total=   6.8s\n",
      "[CV] C=0.01 ..........................................................\n",
      "[CV] .................. C=0.01, score=0.769432748812203, total=   6.7s\n",
      "[CV] C=0.01 ..........................................................\n",
      "[CV] ................. C=0.01, score=0.6990668333854329, total=   6.3s\n",
      "[CV] C=0.01 ..........................................................\n",
      "[CV] .................. C=0.01, score=0.721514349121013, total=   6.5s\n",
      "[CV] C=0.01 ..........................................................\n",
      "[CV] ................. C=0.01, score=0.7033403986078273, total=   6.5s\n",
      "[CV] C=0.1 ...........................................................\n",
      "[CV] .................. C=0.1, score=0.7297151365328636, total=  10.0s\n",
      "[CV] C=0.1 ...........................................................\n",
      "[CV] .................. C=0.1, score=0.7705789728682171, total=   9.7s\n",
      "[CV] C=0.1 ...........................................................\n",
      "[CV] .................. C=0.1, score=0.6963329790559549, total=   8.8s\n",
      "[CV] C=0.1 ...........................................................\n",
      "[CV] ................... C=0.1, score=0.723604627798045, total=   9.4s\n",
      "[CV] C=0.1 ...........................................................\n",
      "[CV] ................... C=0.1, score=0.706559584217041, total=   9.6s\n",
      "[CV] C=1.0 ...........................................................\n",
      "[CV] .................. C=1.0, score=0.7298115904234386, total=  12.0s\n",
      "[CV] C=1.0 ...........................................................\n",
      "[CV] .................. C=1.0, score=0.7704805107526882, total=  12.8s\n",
      "[CV] C=1.0 ...........................................................\n",
      "[CV] .................. C=1.0, score=0.6962932166301969, total=  11.6s\n",
      "[CV] C=1.0 ...........................................................\n",
      "[CV] .................. C=1.0, score=0.7239984639497032, total=  12.7s\n",
      "[CV] C=1.0 ...........................................................\n",
      "[CV] .................. C=1.0, score=0.7062575387970432, total=  12.0s\n",
      "[CV] C=10.0 ..........................................................\n",
      "[CV] ................. C=10.0, score=0.7298130789094042, total=  14.5s\n",
      "[CV] C=10.0 ..........................................................\n",
      "[CV] ................. C=10.0, score=0.7705195830207552, total=  16.0s\n",
      "[CV] C=10.0 ..........................................................\n",
      "[CV] ................. C=10.0, score=0.6963553610503284, total=  13.8s\n",
      "[CV] C=10.0 ..........................................................\n",
      "[CV] ................. C=10.0, score=0.7238918334814313, total=  15.7s\n",
      "[CV] C=10.0 ..........................................................\n",
      "[CV] ................. C=10.0, score=0.7063503239914216, total=  13.8s\n",
      "[CV] C=100.0 .........................................................\n",
      "[CV] ................ C=100.0, score=0.7298044456908034, total=  16.9s\n",
      "[CV] C=100.0 .........................................................\n",
      "[CV] ................ C=100.0, score=0.7705188015753939, total=  17.6s\n",
      "[CV] C=100.0 .........................................................\n",
      "[CV] ................ C=100.0, score=0.6965455454829634, total=  14.9s\n",
      "[CV] C=100.0 .........................................................\n",
      "[CV] ................ C=100.0, score=0.7238795093569576, total=  17.6s\n",
      "[CV] C=100.0 .........................................................\n",
      "[CV] ................ C=100.0, score=0.7063417693281102, total=  15.9s\n",
      "[CV] C=1000.0 ........................................................\n",
      "[CV] ............... C=1000.0, score=0.7298023618104514, total=  18.8s\n",
      "[CV] C=1000.0 ........................................................\n",
      "[CV] ............... C=1000.0, score=0.7705278663415854, total=  19.4s\n",
      "[CV] C=1000.0 ........................................................\n",
      "[CV] ............... C=1000.0, score=0.6965481713035324, total=  17.2s\n",
      "[CV] C=1000.0 ........................................................\n",
      "[CV] ............... C=1000.0, score=0.7238800451884564, total=  19.5s\n",
      "[CV] C=1000.0 ........................................................\n",
      "[CV] ............... C=1000.0, score=0.7063309114862149, total=  19.4s\n"
     ]
    },
    {
     "name": "stderr",
     "output_type": "stream",
     "text": [
      "[Parallel(n_jobs=1)]: Done  35 out of  35 | elapsed:  7.3min finished\n"
     ]
    },
    {
     "name": "stdout",
     "output_type": "stream",
     "text": [
      "Fitting 5 folds for each of 7 candidates, totalling 35 fits\n",
      "[CV] C=0.001 .........................................................\n",
      "[CV] ................ C=0.001, score=0.7359264622535134, total=   4.2s\n",
      "[CV] C=0.001 .........................................................\n"
     ]
    },
    {
     "name": "stderr",
     "output_type": "stream",
     "text": [
      "[Parallel(n_jobs=1)]: Done   1 out of   1 | elapsed:    5.0s remaining:    0.0s\n"
     ]
    },
    {
     "name": "stdout",
     "output_type": "stream",
     "text": [
      "[CV] ................ C=0.001, score=0.7346114529907819, total=   3.9s\n",
      "[CV] C=0.001 .........................................................\n"
     ]
    },
    {
     "name": "stderr",
     "output_type": "stream",
     "text": [
      "[Parallel(n_jobs=1)]: Done   2 out of   2 | elapsed:    9.6s remaining:    0.0s\n"
     ]
    },
    {
     "name": "stdout",
     "output_type": "stream",
     "text": [
      "[CV] ................. C=0.001, score=0.778923538230378, total=   4.0s\n",
      "[CV] C=0.001 .........................................................\n"
     ]
    },
    {
     "name": "stderr",
     "output_type": "stream",
     "text": [
      "[Parallel(n_jobs=1)]: Done   3 out of   3 | elapsed:   14.3s remaining:    0.0s\n"
     ]
    },
    {
     "name": "stdout",
     "output_type": "stream",
     "text": [
      "[CV] ................ C=0.001, score=0.8058126632754521, total=   3.9s\n",
      "[CV] C=0.001 .........................................................\n"
     ]
    },
    {
     "name": "stderr",
     "output_type": "stream",
     "text": [
      "[Parallel(n_jobs=1)]: Done   4 out of   4 | elapsed:   19.0s remaining:    0.0s\n"
     ]
    },
    {
     "name": "stdout",
     "output_type": "stream",
     "text": [
      "[CV] ................ C=0.001, score=0.7152165784719444, total=   4.3s\n",
      "[CV] C=0.01 ..........................................................\n",
      "[CV] ................. C=0.01, score=0.7346096614086628, total=   6.3s\n",
      "[CV] C=0.01 ..........................................................\n",
      "[CV] ................. C=0.01, score=0.7364289472563192, total=   6.5s\n",
      "[CV] C=0.01 ..........................................................\n",
      "[CV] .................. C=0.01, score=0.779237124260661, total=   6.5s\n",
      "[CV] C=0.01 ..........................................................\n",
      "[CV] ................. C=0.01, score=0.8095162037711188, total=   6.7s\n",
      "[CV] C=0.01 ..........................................................\n",
      "[CV] ................. C=0.01, score=0.7240415856608822, total=   6.3s\n",
      "[CV] C=0.1 ...........................................................\n",
      "[CV] .................. C=0.1, score=0.7227252135798823, total=   8.7s\n",
      "[CV] C=0.1 ...........................................................\n",
      "[CV] ................... C=0.1, score=0.733022508520095, total=   8.9s\n",
      "[CV] C=0.1 ...........................................................\n",
      "[CV] .................. C=0.1, score=0.7789715222996669, total=   9.2s\n",
      "[CV] C=0.1 ...........................................................\n",
      "[CV] ................... C=0.1, score=0.808736583261656, total=   8.3s\n",
      "[CV] C=0.1 ...........................................................\n",
      "[CV] ................... C=0.1, score=0.725901332610272, total=   9.7s\n",
      "[CV] C=1.0 ...........................................................\n",
      "[CV] .................. C=1.0, score=0.7160404213335765, total=  12.0s\n",
      "[CV] C=1.0 ...........................................................\n",
      "[CV] .................. C=1.0, score=0.7325219379452413, total=  11.7s\n",
      "[CV] C=1.0 ...........................................................\n",
      "[CV] .................. C=1.0, score=0.7783014349095256, total=  11.4s\n",
      "[CV] C=1.0 ...........................................................\n",
      "[CV] .................. C=1.0, score=0.8083401402097092, total=  11.6s\n",
      "[CV] C=1.0 ...........................................................\n",
      "[CV] .................. C=1.0, score=0.7274901269316363, total=  11.5s\n",
      "[CV] C=10.0 ..........................................................\n",
      "[CV] ................. C=10.0, score=0.7155552360292324, total=  14.0s\n",
      "[CV] C=10.0 ..........................................................\n",
      "[CV] .................. C=10.0, score=0.732014534138608, total=  13.8s\n",
      "[CV] C=10.0 ..........................................................\n",
      "[CV] ................. C=10.0, score=0.7783359023395782, total=  14.0s\n",
      "[CV] C=10.0 ..........................................................\n",
      "[CV] ................. C=10.0, score=0.8082869253538902, total=  13.9s\n",
      "[CV] C=10.0 ..........................................................\n",
      "[CV] ................. C=10.0, score=0.7274754755638627, total=  13.8s\n",
      "[CV] C=100.0 .........................................................\n",
      "[CV] ................ C=100.0, score=0.7155268751032087, total=  15.7s\n",
      "[CV] C=100.0 .........................................................\n",
      "[CV] ................ C=100.0, score=0.7320449202118418, total=  16.8s\n",
      "[CV] C=100.0 .........................................................\n",
      "[CV] ................ C=100.0, score=0.7783359023395782, total=  16.6s\n",
      "[CV] C=100.0 .........................................................\n",
      "[CV] ................ C=100.0, score=0.8082825034890799, total=  16.9s\n",
      "[CV] C=100.0 .........................................................\n",
      "[CV] ................ C=100.0, score=0.7274959874787459, total=  17.0s\n",
      "[CV] C=1000.0 ........................................................\n",
      "[CV] ............... C=1000.0, score=0.7155268751032087, total=  18.4s\n",
      "[CV] C=1000.0 ........................................................\n",
      "[CV] ............... C=1000.0, score=0.7320562604688382, total=  17.3s\n",
      "[CV] C=1000.0 ........................................................\n",
      "[CV] ............... C=1000.0, score=0.7783345506756545, total=  18.3s\n",
      "[CV] C=1000.0 ........................................................\n",
      "[CV] ................. C=1000.0, score=0.80828250348908, total=  18.6s\n",
      "[CV] C=1000.0 ........................................................\n",
      "[CV] ............... C=1000.0, score=0.7274955967756052, total=  18.5s\n"
     ]
    },
    {
     "name": "stderr",
     "output_type": "stream",
     "text": [
      "[Parallel(n_jobs=1)]: Done  35 out of  35 | elapsed:  7.1min finished\n"
     ]
    },
    {
     "name": "stdout",
     "output_type": "stream",
     "text": [
      "Fitting 5 folds for each of 7 candidates, totalling 35 fits\n",
      "[CV] C=0.001 .........................................................\n",
      "[CV] ................ C=0.001, score=0.7223932687629253, total=   4.1s\n",
      "[CV] C=0.001 .........................................................\n"
     ]
    },
    {
     "name": "stderr",
     "output_type": "stream",
     "text": [
      "[Parallel(n_jobs=1)]: Done   1 out of   1 | elapsed:    4.8s remaining:    0.0s\n"
     ]
    },
    {
     "name": "stdout",
     "output_type": "stream",
     "text": [
      "[CV] ................. C=0.001, score=0.678221307339552, total=   4.1s\n",
      "[CV] C=0.001 .........................................................\n"
     ]
    },
    {
     "name": "stderr",
     "output_type": "stream",
     "text": [
      "[Parallel(n_jobs=1)]: Done   2 out of   2 | elapsed:    9.6s remaining:    0.0s\n"
     ]
    },
    {
     "name": "stdout",
     "output_type": "stream",
     "text": [
      "[CV] ................ C=0.001, score=0.6709222290851111, total=   3.9s\n",
      "[CV] C=0.001 .........................................................\n"
     ]
    },
    {
     "name": "stderr",
     "output_type": "stream",
     "text": [
      "[Parallel(n_jobs=1)]: Done   3 out of   3 | elapsed:   14.3s remaining:    0.0s\n"
     ]
    },
    {
     "name": "stdout",
     "output_type": "stream",
     "text": [
      "[CV] ................ C=0.001, score=0.8098169256269873, total=   4.0s\n",
      "[CV] C=0.001 .........................................................\n"
     ]
    },
    {
     "name": "stderr",
     "output_type": "stream",
     "text": [
      "[Parallel(n_jobs=1)]: Done   4 out of   4 | elapsed:   19.1s remaining:    0.0s\n"
     ]
    },
    {
     "name": "stdout",
     "output_type": "stream",
     "text": [
      "[CV] ................ C=0.001, score=0.7639004290542618, total=   4.0s\n",
      "[CV] C=0.01 ..........................................................\n",
      "[CV] ................. C=0.01, score=0.7200560844936027, total=   6.6s\n",
      "[CV] C=0.01 ..........................................................\n",
      "[CV] ................. C=0.01, score=0.6807189965662132, total=   6.4s\n",
      "[CV] C=0.01 ..........................................................\n",
      "[CV] ................. C=0.01, score=0.6778167100520887, total=   6.6s\n",
      "[CV] C=0.01 ..........................................................\n",
      "[CV] ................. C=0.01, score=0.8038267523652181, total=   6.6s\n",
      "[CV] C=0.01 ..........................................................\n",
      "[CV] ................. C=0.01, score=0.7646554284719833, total=   6.6s\n",
      "[CV] C=0.1 ...........................................................\n",
      "[CV] .................. C=0.1, score=0.7210801273924003, total=   9.6s\n",
      "[CV] C=0.1 ...........................................................\n",
      "[CV] .................. C=0.1, score=0.6819433715410961, total=   9.8s\n",
      "[CV] C=0.1 ...........................................................\n",
      "[CV] .................. C=0.1, score=0.6775436732802465, total=   9.7s\n",
      "[CV] C=0.1 ...........................................................\n",
      "[CV] .................... C=0.1, score=0.79001938600826, total=   8.8s\n",
      "[CV] C=0.1 ...........................................................\n",
      "[CV] .................. C=0.1, score=0.7650895567718707, total=   9.9s\n",
      "[CV] C=1.0 ...........................................................\n",
      "[CV] .................. C=1.0, score=0.7213629742621546, total=  12.7s\n",
      "[CV] C=1.0 ...........................................................\n",
      "[CV] .................. C=1.0, score=0.6828794691695951, total=  11.9s\n",
      "[CV] C=1.0 ...........................................................\n",
      "[CV] .................. C=1.0, score=0.6770044559036539, total=  11.6s\n",
      "[CV] C=1.0 ...........................................................\n",
      "[CV] .................. C=1.0, score=0.7883183534831482, total=  11.8s\n",
      "[CV] C=1.0 ...........................................................\n",
      "[CV] .................. C=1.0, score=0.7652289837777624, total=  13.0s\n",
      "[CV] C=10.0 ..........................................................\n",
      "[CV] ................. C=10.0, score=0.7213994165273144, total=  14.4s\n",
      "[CV] C=10.0 ..........................................................\n",
      "[CV] ................. C=10.0, score=0.6828741108546066, total=  15.0s\n",
      "[CV] C=10.0 ..........................................................\n",
      "[CV] ................. C=10.0, score=0.6768933456663679, total=  14.8s\n",
      "[CV] C=10.0 ..........................................................\n",
      "[CV] ................. C=10.0, score=0.7882391187466395, total=  14.7s\n",
      "[CV] C=10.0 ..........................................................\n",
      "[CV] ................. C=10.0, score=0.7652135726592801, total=  14.4s\n",
      "[CV] C=100.0 .........................................................\n",
      "[CV] ................ C=100.0, score=0.7213986541368298, total=  17.4s\n",
      "[CV] C=100.0 .........................................................\n",
      "[CV] ................ C=100.0, score=0.6828514273211551, total=  18.1s\n",
      "[CV] C=100.0 .........................................................\n",
      "[CV] ................ C=100.0, score=0.6768866911512492, total=  17.8s\n",
      "[CV] C=100.0 .........................................................\n",
      "[CV] ................ C=100.0, score=0.7882664363830689, total=  16.5s\n",
      "[CV] C=100.0 .........................................................\n",
      "[CV] ................ C=100.0, score=0.7652004877473612, total=  17.6s\n",
      "[CV] C=1000.0 ........................................................\n",
      "[CV] ............... C=1000.0, score=0.7213954520967949, total=  19.3s\n",
      "[CV] C=1000.0 ........................................................\n",
      "[CV] ............... C=1000.0, score=0.6828923291255675, total=  19.9s\n",
      "[CV] C=1000.0 ........................................................\n",
      "[CV] ............... C=1000.0, score=0.6768866911512492, total=  20.0s\n",
      "[CV] C=1000.0 ........................................................\n",
      "[CV] ............... C=1000.0, score=0.7882645336621235, total=  18.2s\n",
      "[CV] C=1000.0 ........................................................\n",
      "[CV] ............... C=1000.0, score=0.7651949630067731, total=  20.6s\n"
     ]
    },
    {
     "name": "stderr",
     "output_type": "stream",
     "text": [
      "[Parallel(n_jobs=1)]: Done  35 out of  35 | elapsed:  7.5min finished\n"
     ]
    }
   ],
   "source": [
    "# Choose cross-validation techniques for the inner and outer loops,\n",
    "inner_cv = KFold(n_splits=5, shuffle=True, random_state=13)\n",
    "outer_cv = KFold(n_splits=5, shuffle=True, random_state=13)\n",
    "\n",
    "# Non_nested parameter search and scoring\n",
    "grid = GridSearchCV(lr_model, param_grid=param_grid, scoring='roc_auc', cv=inner_cv, verbose=5)\n",
    "\n",
    "# Nested CV with parameter optimization                                             \n",
    "nested_score = cross_val_score(grid, X=X_data, y=y_data, cv=outer_cv)"
   ]
  },
  {
   "cell_type": "code",
   "execution_count": 92,
   "metadata": {
    "collapsed": false
   },
   "outputs": [
    {
     "data": {
      "text/plain": [
       "array([0.73185986, 0.71550054, 0.76426852, 0.66671028, 0.73237233])"
      ]
     },
     "execution_count": 92,
     "metadata": {},
     "output_type": "execute_result"
    }
   ],
   "source": [
    "nested_score"
   ]
  },
  {
   "cell_type": "code",
   "execution_count": 96,
   "metadata": {
    "collapsed": false
   },
   "outputs": [
    {
     "name": "stdout",
     "output_type": "stream",
     "text": [
      "Mean: 0.7221423050681365\n",
      "Std: 0.03190775790573722\n"
     ]
    }
   ],
   "source": [
    "print(\"Mean:\", nested_score.mean())\n",
    "print(\"Std:\", nested_score.std())"
   ]
  },
  {
   "cell_type": "markdown",
   "metadata": {},
   "source": [
    "The nested CV will give us how this model generally perfors in our dataset. In the above, we can see the overall performance across all 5 folds using LR with regularization. The overall average ROC-AUC is round 0.722 with a std of 0.03."
   ]
  },
  {
   "cell_type": "code",
   "execution_count": 93,
   "metadata": {
    "collapsed": false
   },
   "outputs": [
    {
     "name": "stdout",
     "output_type": "stream",
     "text": [
      "Fitting 5 folds for each of 7 candidates, totalling 35 fits\n",
      "[CV] C=0.001 .........................................................\n",
      "[CV] ................ C=0.001, score=0.7318598612531202, total=   6.4s\n",
      "[CV] C=0.001 .........................................................\n"
     ]
    },
    {
     "name": "stderr",
     "output_type": "stream",
     "text": [
      "[Parallel(n_jobs=1)]: Done   1 out of   1 | elapsed:    7.2s remaining:    0.0s\n"
     ]
    },
    {
     "name": "stdout",
     "output_type": "stream",
     "text": [
      "[CV] ................ C=0.001, score=0.7155005351177259, total=   6.3s\n",
      "[CV] C=0.001 .........................................................\n"
     ]
    },
    {
     "name": "stderr",
     "output_type": "stream",
     "text": [
      "[Parallel(n_jobs=1)]: Done   2 out of   2 | elapsed:   14.4s remaining:    0.0s\n"
     ]
    },
    {
     "name": "stdout",
     "output_type": "stream",
     "text": [
      "[CV] ................ C=0.001, score=0.7930482341492489, total=   6.4s\n",
      "[CV] C=0.001 .........................................................\n"
     ]
    },
    {
     "name": "stderr",
     "output_type": "stream",
     "text": [
      "[Parallel(n_jobs=1)]: Done   3 out of   3 | elapsed:   21.7s remaining:    0.0s\n"
     ]
    },
    {
     "name": "stdout",
     "output_type": "stream",
     "text": [
      "[CV] ................ C=0.001, score=0.6670359589897474, total=   6.3s\n",
      "[CV] C=0.001 .........................................................\n"
     ]
    },
    {
     "name": "stderr",
     "output_type": "stream",
     "text": [
      "[Parallel(n_jobs=1)]: Done   4 out of   4 | elapsed:   28.9s remaining:    0.0s\n"
     ]
    },
    {
     "name": "stdout",
     "output_type": "stream",
     "text": [
      "[CV] ................ C=0.001, score=0.7288993108346002, total=   6.8s\n",
      "[CV] C=0.01 ..........................................................\n",
      "[CV] ................. C=0.01, score=0.7328985217645145, total=   9.5s\n",
      "[CV] C=0.01 ..........................................................\n",
      "[CV] .................. C=0.01, score=0.715788212043013, total=  10.0s\n",
      "[CV] C=0.01 ..........................................................\n",
      "[CV] ................. C=0.01, score=0.7866014642085977, total=   9.6s\n",
      "[CV] C=0.01 ..........................................................\n",
      "[CV] ................. C=0.01, score=0.6667102775693923, total=   9.4s\n",
      "[CV] C=0.01 ..........................................................\n",
      "[CV] ................. C=0.01, score=0.7323723318596462, total=   9.7s\n",
      "[CV] C=0.1 ...........................................................\n",
      "[CV] .................. C=0.1, score=0.7310429372553942, total=  13.9s\n",
      "[CV] C=0.1 ...........................................................\n",
      "[CV] .................. C=0.1, score=0.7157507037911977, total=  14.1s\n",
      "[CV] C=0.1 ...........................................................\n",
      "[CV] .................. C=0.1, score=0.7690030325144173, total=  12.9s\n",
      "[CV] C=0.1 ...........................................................\n",
      "[CV] ................... C=0.1, score=0.667536784196049, total=  12.1s\n",
      "[CV] C=0.1 ...........................................................\n",
      "[CV] .................. C=0.1, score=0.7323841055186578, total=  13.5s\n",
      "[CV] C=1.0 ...........................................................\n",
      "[CV] .................. C=1.0, score=0.7310826322990155, total=  16.9s\n",
      "[CV] C=1.0 ...........................................................\n",
      "[CV] .................. C=1.0, score=0.7157466119819087, total=  16.9s\n",
      "[CV] C=1.0 ...........................................................\n",
      "[CV] .................. C=1.0, score=0.7645872996516372, total=  16.8s\n",
      "[CV] C=1.0 ...........................................................\n",
      "[CV] .................. C=1.0, score=0.6673362340585146, total=  16.0s\n",
      "[CV] C=1.0 ...........................................................\n",
      "[CV] .................. C=1.0, score=0.7321163329199007, total=  15.4s\n",
      "[CV] C=10.0 ..........................................................\n",
      "[CV] ................. C=10.0, score=0.7310703268354929, total=  19.5s\n",
      "[CV] C=10.0 ..........................................................\n",
      "[CV] ................. C=10.0, score=0.7157050119208044, total=  20.8s\n",
      "[CV] C=10.0 ..........................................................\n",
      "[CV] ................. C=10.0, score=0.7642759568885164, total=  21.2s\n",
      "[CV] C=10.0 ..........................................................\n",
      "[CV] ................. C=10.0, score=0.6672984246061515, total=  19.8s\n",
      "[CV] C=10.0 ..........................................................\n",
      "[CV] ................. C=10.0, score=0.7320777820010136, total=  19.9s\n",
      "[CV] C=100.0 .........................................................\n",
      "[CV] ................ C=100.0, score=0.7311195486895833, total=  23.3s\n",
      "[CV] C=100.0 .........................................................\n",
      "[CV] ................. C=100.0, score=0.715689894958709, total=  22.7s\n",
      "[CV] C=100.0 .........................................................\n",
      "[CV] ................ C=100.0, score=0.7642685195407977, total=  23.5s\n",
      "[CV] C=100.0 .........................................................\n",
      "[CV] ................ C=100.0, score=0.6673005251312829, total=  21.9s\n",
      "[CV] C=100.0 .........................................................\n",
      "[CV] ................ C=100.0, score=0.7320767400842869, total=  23.7s\n",
      "[CV] C=1000.0 ........................................................\n",
      "[CV] ............... C=1000.0, score=0.7311196280796706, total=  26.0s\n",
      "[CV] C=1000.0 ........................................................\n",
      "[CV] ................ C=1000.0, score=0.715688985667756, total=  26.2s\n",
      "[CV] C=1000.0 ........................................................\n",
      "[CV] ................ C=1000.0, score=0.764269160691463, total=  26.0s\n",
      "[CV] C=1000.0 ........................................................\n",
      "[CV] ............... C=1000.0, score=0.6672995248812204, total=  24.0s\n",
      "[CV] C=1000.0 ........................................................\n",
      "[CV] ............... C=1000.0, score=0.7320767400842869, total=  25.8s\n"
     ]
    },
    {
     "name": "stderr",
     "output_type": "stream",
     "text": [
      "[Parallel(n_jobs=1)]: Done  35 out of  35 | elapsed: 10.1min finished\n"
     ]
    },
    {
     "data": {
      "text/plain": [
       "GridSearchCV(cv=KFold(n_splits=5, random_state=13, shuffle=True),\n",
       "       error_score='raise',\n",
       "       estimator=LogisticRegression(C=1.0, class_weight='balanced', dual=False,\n",
       "          fit_intercept=True, intercept_scaling=1, max_iter=100,\n",
       "          multi_class='ovr', n_jobs=1, penalty='l2', random_state=None,\n",
       "          solver='liblinear', tol=0.0001, verbose=0, warm_start=False),\n",
       "       fit_params=None, iid=True, n_jobs=1,\n",
       "       param_grid={'C': array([1.e-03, 1.e-02, 1.e-01, 1.e+00, 1.e+01, 1.e+02, 1.e+03])},\n",
       "       pre_dispatch='2*n_jobs', refit=True, return_train_score='warn',\n",
       "       scoring='roc_auc', verbose=5)"
      ]
     },
     "execution_count": 93,
     "metadata": {},
     "output_type": "execute_result"
    }
   ],
   "source": [
    "grid.fit(X_data, y_data)"
   ]
  },
  {
   "cell_type": "code",
   "execution_count": 101,
   "metadata": {
    "collapsed": false
   },
   "outputs": [
    {
     "name": "stdout",
     "output_type": "stream",
     "text": [
      "The best hyperparameter is {'C': 0.001} with a score of 0.7273\n"
     ]
    }
   ],
   "source": [
    "print(\"The best hyperparameter is {} with a score of {:.4f}\".format(grid.best_params_, grid.best_score_))"
   ]
  },
  {
   "cell_type": "markdown",
   "metadata": {},
   "source": [
    "## What Lies Beyond\n",
    "Here we can try dimension reduction using PCA and feature hashing for **ID**."
   ]
  },
  {
   "cell_type": "code",
   "execution_count": 54,
   "metadata": {
    "collapsed": true
   },
   "outputs": [],
   "source": [
    "from sklearn.decomposition import PCA\n",
    "from sklearn.feature_extraction import FeatureHasher\n",
    "from scipy.sparse import csr_matrix, hstack"
   ]
  },
  {
   "cell_type": "markdown",
   "metadata": {},
   "source": [
    "### Dimension Reduction with PCA"
   ]
  },
  {
   "cell_type": "code",
   "execution_count": 98,
   "metadata": {
    "collapsed": true
   },
   "outputs": [],
   "source": [
    "components = [35, 30, 25, 20, 15, 10, 5]"
   ]
  },
  {
   "cell_type": "code",
   "execution_count": 100,
   "metadata": {
    "collapsed": false
   },
   "outputs": [
    {
     "name": "stdout",
     "output_type": "stream",
     "text": [
      "Train using 35 components.\n",
      "Train using 30 components.\n",
      "Train using 25 components.\n",
      "Train using 20 components.\n",
      "Train using 15 components.\n",
      "Train using 10 components.\n",
      "Train using 5 components.\n"
     ]
    }
   ],
   "source": [
    "lr_model = LR(C=0.001, class_weight='balanced')\n",
    "pca_auc_scores = []\n",
    "for cmp in components:\n",
    "    print(\"Train using {} components.\".format(cmp))\n",
    "    pca = PCA(n_components=cmp)\n",
    "    X_data_pca = pca.fit_transform(X_data)\n",
    "    X_train_pca, X_test_pca = train_test_split(X_data_pca, test_size=0.1, random_state=13)\n",
    "    lr_model.fit(X_train_pca, y_train)\n",
    "    \n",
    "    y_pred_prob = lr_model.predict_proba(X_test_pca)\n",
    "    pca_auc_scores.append(roc_auc_score(y_test, y_pred_prob[:, 1]))"
   ]
  },
  {
   "cell_type": "code",
   "execution_count": 104,
   "metadata": {
    "collapsed": false
   },
   "outputs": [
    {
     "data": {
      "image/png": "[encoded data removed]",
      "text/plain": [
       "<matplotlib.figure.Figure at 0x7f25783f2860>"
      ]
     },
     "metadata": {},
     "output_type": "display_data"
    }
   ],
   "source": [
    "plt.plot(components, pca_auc_scores)\n",
    "plt.xlabel(\"Number of Components\")\n",
    "plt.ylabel(\"ROC AUC\")\n",
    "plt.show()"
   ]
  },
  {
   "cell_type": "markdown",
   "metadata": {},
   "source": [
    "As seen, with 25 components the model performs the best against the rest of component counts, but the AUC score does not siginficantly improve (~0.725)."
   ]
  },
  {
   "cell_type": "markdown",
   "metadata": {},
   "source": [
    "### Feature Hashing for ID\n",
    "This part will be maybe a little tricky here, because we need to map **ID** to hash and output a customed length vector which represents number of features. Smaller number of features is likely to cause hash collison, whereas too large will cause larger coefficient dimensions in linear learners (e.g., Logisitic Regression)."
   ]
  },
  {
   "cell_type": "code",
   "execution_count": 111,
   "metadata": {
    "collapsed": false
   },
   "outputs": [
    {
     "data": {
      "text/plain": [
       "218686"
      ]
     },
     "execution_count": 111,
     "metadata": {},
     "output_type": "execute_result"
    }
   ],
   "source": [
    "user_ctr = df_ctr.groupby('ID')['Action'].mean().to_dict()\n",
    "len(user_ctr)"
   ]
  },
  {
   "cell_type": "code",
   "execution_count": 71,
   "metadata": {
    "collapsed": false
   },
   "outputs": [
    {
     "data": {
      "text/html": [
       "<div>\n",
       "<style scoped>\n",
       "    .dataframe tbody tr th:only-of-type {\n",
       "        vertical-align: middle;\n",
       "    }\n",
       "\n",
       "    .dataframe tbody tr th {\n",
       "        vertical-align: top;\n",
       "    }\n",
       "\n",
       "    .dataframe thead th {\n",
       "        text-align: right;\n",
       "    }\n",
       "</style>\n",
       "<table border=\"1\" class=\"dataframe\">\n",
       "  <thead>\n",
       "    <tr style=\"text-align: right;\">\n",
       "      <th></th>\n",
       "      <th>Unnamed: 0</th>\n",
       "      <th>ID</th>\n",
       "      <th>ActionTime</th>\n",
       "      <th>Action</th>\n",
       "      <th>Website</th>\n",
       "      <th>BannerSize</th>\n",
       "      <th>Brand</th>\n",
       "      <th>colour</th>\n",
       "      <th>InteractionTime</th>\n",
       "      <th>DateTime</th>\n",
       "      <th>Year</th>\n",
       "      <th>Month</th>\n",
       "      <th>DayWeek</th>\n",
       "      <th>DayPeriod</th>\n",
       "      <th>Weekend</th>\n",
       "      <th>CTR</th>\n",
       "    </tr>\n",
       "  </thead>\n",
       "  <tbody>\n",
       "    <tr>\n",
       "      <th>0</th>\n",
       "      <td>1</td>\n",
       "      <td>AMsySZbNg8SBwPtj7IGHnip_8aY0</td>\n",
       "      <td>1508761859495365</td>\n",
       "      <td>0</td>\n",
       "      <td>Facebook</td>\n",
       "      <td>300x600</td>\n",
       "      <td>Carter's</td>\n",
       "      <td>Pink</td>\n",
       "      <td>0.171601</td>\n",
       "      <td>2017-10-23 12:30:59.495365</td>\n",
       "      <td>0</td>\n",
       "      <td>10</td>\n",
       "      <td>Monday</td>\n",
       "      <td>Afternoon</td>\n",
       "      <td>0</td>\n",
       "      <td>0.0</td>\n",
       "    </tr>\n",
       "    <tr>\n",
       "      <th>1</th>\n",
       "      <td>2</td>\n",
       "      <td>AMsySZZcUFNGOJs-lfC9j-ZDlV7Z</td>\n",
       "      <td>1502847469736117</td>\n",
       "      <td>0</td>\n",
       "      <td>Facebook</td>\n",
       "      <td>300x250</td>\n",
       "      <td>Burberry</td>\n",
       "      <td>Red</td>\n",
       "      <td>4.303945</td>\n",
       "      <td>2017-08-16 01:37:49.736117</td>\n",
       "      <td>0</td>\n",
       "      <td>8</td>\n",
       "      <td>Wednesday</td>\n",
       "      <td>Night</td>\n",
       "      <td>0</td>\n",
       "      <td>0.0</td>\n",
       "    </tr>\n",
       "    <tr>\n",
       "      <th>2</th>\n",
       "      <td>3</td>\n",
       "      <td>AMsySZYoK8_bD0hGv4zu0iRn1TFo</td>\n",
       "      <td>1514169431528120</td>\n",
       "      <td>0</td>\n",
       "      <td>Facebook</td>\n",
       "      <td>728x90</td>\n",
       "      <td>Disney</td>\n",
       "      <td>Yellow</td>\n",
       "      <td>0.868106</td>\n",
       "      <td>2017-12-25 02:37:11.528120</td>\n",
       "      <td>0</td>\n",
       "      <td>12</td>\n",
       "      <td>Monday</td>\n",
       "      <td>Night</td>\n",
       "      <td>0</td>\n",
       "      <td>0.0</td>\n",
       "    </tr>\n",
       "    <tr>\n",
       "      <th>3</th>\n",
       "      <td>4</td>\n",
       "      <td>AMsySZahxpwLOWnMJj6RGATgwEOc</td>\n",
       "      <td>1515527952591896</td>\n",
       "      <td>0</td>\n",
       "      <td>Facebook</td>\n",
       "      <td>320x50</td>\n",
       "      <td>Carter's</td>\n",
       "      <td>Yellow</td>\n",
       "      <td>0.802647</td>\n",
       "      <td>2018-01-09 19:59:12.591896</td>\n",
       "      <td>1</td>\n",
       "      <td>1</td>\n",
       "      <td>Tuesday</td>\n",
       "      <td>Evening</td>\n",
       "      <td>0</td>\n",
       "      <td>0.0</td>\n",
       "    </tr>\n",
       "    <tr>\n",
       "      <th>4</th>\n",
       "      <td>5</td>\n",
       "      <td>AMsySZbqgfMBDtAqZz1jVRaOmX00</td>\n",
       "      <td>1507514809374045</td>\n",
       "      <td>0</td>\n",
       "      <td>instagram.com</td>\n",
       "      <td>300x250</td>\n",
       "      <td>Gap</td>\n",
       "      <td>Gold</td>\n",
       "      <td>0.627148</td>\n",
       "      <td>2017-10-09 02:06:49.374045</td>\n",
       "      <td>0</td>\n",
       "      <td>10</td>\n",
       "      <td>Monday</td>\n",
       "      <td>Night</td>\n",
       "      <td>0</td>\n",
       "      <td>0.0</td>\n",
       "    </tr>\n",
       "  </tbody>\n",
       "</table>\n",
       "</div>"
      ],
      "text/plain": [
       "   Unnamed: 0                            ID        ActionTime  Action  \\\n",
       "0           1  AMsySZbNg8SBwPtj7IGHnip_8aY0  1508761859495365       0   \n",
       "1           2  AMsySZZcUFNGOJs-lfC9j-ZDlV7Z  1502847469736117       0   \n",
       "2           3  AMsySZYoK8_bD0hGv4zu0iRn1TFo  1514169431528120       0   \n",
       "3           4  AMsySZahxpwLOWnMJj6RGATgwEOc  1515527952591896       0   \n",
       "4           5  AMsySZbqgfMBDtAqZz1jVRaOmX00  1507514809374045       0   \n",
       "\n",
       "         Website BannerSize     Brand  colour  InteractionTime  \\\n",
       "0       Facebook    300x600  Carter's    Pink         0.171601   \n",
       "1       Facebook    300x250  Burberry     Red         4.303945   \n",
       "2       Facebook     728x90    Disney  Yellow         0.868106   \n",
       "3       Facebook     320x50  Carter's  Yellow         0.802647   \n",
       "4  instagram.com    300x250       Gap    Gold         0.627148   \n",
       "\n",
       "                    DateTime  Year Month    DayWeek  DayPeriod  Weekend  CTR  \n",
       "0 2017-10-23 12:30:59.495365     0    10     Monday  Afternoon        0  0.0  \n",
       "1 2017-08-16 01:37:49.736117     0     8  Wednesday      Night        0  0.0  \n",
       "2 2017-12-25 02:37:11.528120     0    12     Monday      Night        0  0.0  \n",
       "3 2018-01-09 19:59:12.591896     1     1    Tuesday    Evening        0  0.0  \n",
       "4 2017-10-09 02:06:49.374045     0    10     Monday      Night        0  0.0  "
      ]
     },
     "execution_count": 71,
     "metadata": {},
     "output_type": "execute_result"
    }
   ],
   "source": [
    "df_ctr['CTR'] = df_ctr.groupby('ID')['Action'].transform('mean')\n",
    "df_ctr.head()"
   ]
  },
  {
   "cell_type": "code",
   "execution_count": 72,
   "metadata": {
    "collapsed": false
   },
   "outputs": [
    {
     "data": {
      "text/plain": [
       "(1000000, 1048576)"
      ]
     },
     "execution_count": 72,
     "metadata": {},
     "output_type": "execute_result"
    }
   ],
   "source": [
    "id_hasher = FeatureHasher(input_type='string')\n",
    "X_id = id_hasher.fit_transform(df_ctr['ID'])\n",
    "X_id.shape"
   ]
  },
  {
   "cell_type": "code",
   "execution_count": 56,
   "metadata": {
    "collapsed": false
   },
   "outputs": [],
   "source": [
    "X_data_csr = csr_matrix(X_data)"
   ]
  },
  {
   "cell_type": "code",
   "execution_count": 57,
   "metadata": {
    "collapsed": false
   },
   "outputs": [
    {
     "data": {
      "text/plain": [
       "(1000000, 39)"
      ]
     },
     "execution_count": 57,
     "metadata": {},
     "output_type": "execute_result"
    }
   ],
   "source": [
    "X_data_csr.shape"
   ]
  },
  {
   "cell_type": "code",
   "execution_count": 73,
   "metadata": {
    "collapsed": false
   },
   "outputs": [
    {
     "data": {
      "text/plain": [
       "(1000000, 1048615)"
      ]
     },
     "execution_count": 73,
     "metadata": {},
     "output_type": "execute_result"
    }
   ],
   "source": [
    "X_data_id = hstack([X_data_csr, X_id])\n",
    "X_data_id.shape"
   ]
  },
  {
   "cell_type": "code",
   "execution_count": 74,
   "metadata": {
    "collapsed": true
   },
   "outputs": [],
   "source": [
    "X_train_id, X_test_id, y_train, y_test = train_test_split(X_data_id, y_data,\n",
    "                                                          test_size=0.1, random_state=13)"
   ]
  },
  {
   "cell_type": "code",
   "execution_count": 75,
   "metadata": {
    "collapsed": false
   },
   "outputs": [
    {
     "data": {
      "text/plain": [
       "0.6958231064736211"
      ]
     },
     "execution_count": 75,
     "metadata": {},
     "output_type": "execute_result"
    }
   ],
   "source": [
    "lr_model = LR(C=0.001, class_weight='balanced')\n",
    "\n",
    "lr_model.fit(X_train_id, y_train)\n",
    "\n",
    "y_pred_prob = lr_model.predict_proba(X_test_id)\n",
    "roc_auc_score(y_test, y_pred_prob[:, 1])"
   ]
  },
  {
   "cell_type": "markdown",
   "metadata": {
    "collapsed": true
   },
   "source": [
    "As seen, the ROC AUC score does not improve rather decrease. It is speculated that since we only have 211 users who have clicked the prior information does not make too much impact on the target, and rather the high sparsity degrades the LR performance. Although, this result should be cross-validated, due to the time constraint I will not proceed with it. "
   ]
  },
  {
   "cell_type": "markdown",
   "metadata": {},
   "source": [
    "### Insights on Oversampling\n",
    "Throughout the entire analysis, I have not performed resampling on the dataset as the AUC score is considered acceptable. The nice little feature in the Sklearn's logistic regression (for Random Forest and etc.) is that you can specify the class weight that the classifier will penalize/adjust the weights of classes to the loss function at fit time.\n",
    "\n",
    "However, the results using actual resampling might be completely different. There are a few underlying issues that make me opt into not resampling. For start, between undersampling and oversampling I will prefer oversampling because with undersampling you are potentially lose a lot of information from the data (as there is highly imbalanced case this issue will be magnified). With oversampling, SMOTE is one of the most popular techniques for data with low dimensionality (e.g., 2D). One of the limitations of SMOTE (imblearn) is that it only supprots continuous data (this still remains a open issue https://github.com/scikit-learn-contrib/imbalanced-learn/issues/401), but in our case we have mostly or exclusively categorical (non-continuous) data. In my function *cv_select_model* I provided an option to oversample the training set during cross validation, and a workround to convert the continuous resampled data to non-continous is to round the floats to integer but at a cost of losing some information (or become more noisy). This ultimately leads to another issue with oversampling that is the discrepancy of class distribution presented in training and validation/testing sets. The correct way to approach this is to tune a different decision threshold as opposed to the original decision boundary for binary classification which is 0.5. The perfect cutoff probability is usually to be found with cross validation on the entire set."
   ]
  },
  {
   "cell_type": "markdown",
   "metadata": {},
   "source": [
    "### Online Learning Algorithms\n",
    "There are a few advanced online learning algorithms which have gained high popularity in CTR prediction community, such as the Follow-the-Regularized-Leader (FTRL) and Factorization Machine (FM). There are some very successful cases incorporating LR with FTRL algorithm that produces highly promising results with large dimensional space data (can go up to millions). The general idea is to apply hashing trick (i.e., feature hashing) that maps the high dimensional data into a smaller dimension space and work from there (http://www.eecs.tufts.edu/~dsculley/papers/ad-click-prediction.pdf)."
   ]
  },
  {
   "cell_type": "markdown",
   "metadata": {},
   "source": [
    "### Xgboost\n",
    "Boosting algorithm is actually a pretty good option (gradient boosting draw tie with logisitic regression in previous sections) for class imbalanced dataset, as it is trained with previous weak learner's residuals sequentially to reduce bias. XGBoost will be a great candidate due to its capability of parallism and engineered regularization method if we want to explore further beyond the logistic regression."
   ]
  },
  {
   "cell_type": "code",
   "execution_count": null,
   "metadata": {
    "collapsed": true
   },
   "outputs": [],
   "source": []
  }
 ],
 "metadata": {
  "kernelspec": {
   "display_name": "Python 3",
   "language": "python",
   "name": "python3"
  },
  "language_info": {
   "codemirror_mode": {
    "name": "ipython",
    "version": 3
   },
   "file_extension": ".py",
   "mimetype": "text/x-python",
   "name": "python",
   "nbconvert_exporter": "python",
   "pygments_lexer": "ipython3",
   "version": "3.5.2"
  },
  "widgets": {
   "state": {},
   "version": "1.1.2"
  }
 },
 "nbformat": 4,
 "nbformat_minor": 0
}
